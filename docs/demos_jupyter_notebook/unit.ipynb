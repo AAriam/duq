{
 "cells": [
  {
   "cell_type": "markdown",
   "id": "3d4d4c94",
   "metadata": {},
   "source": [
    "# The `unit` Module"
   ]
  },
  {
   "cell_type": "markdown",
   "id": "2e795b25",
   "metadata": {},
   "source": [
    "## Introduction"
   ]
  },
  {
   "cell_type": "markdown",
   "id": "ae85783a",
   "metadata": {},
   "source": [
    "The module `unit` offers tools for working with physical units. It contains a class `Unit` allowing for creating objects that represent a physical unit:"
   ]
  },
  {
   "cell_type": "code",
   "execution_count": 1,
   "id": "56d4df19",
   "metadata": {},
   "outputs": [],
   "source": [
    "from duq.unit import Unit"
   ]
  },
  {
   "cell_type": "markdown",
   "id": "64f9a5d1",
   "metadata": {},
   "source": [
    "A list of already available units can be viewed using the class method `supported_input_units`:"
   ]
  },
  {
   "cell_type": "code",
   "execution_count": 2,
   "id": "423d727f",
   "metadata": {},
   "outputs": [
    {
     "data": {
      "text/plain": [
       "(('kilogram', 'kg'),\n",
       " ('gram', 'g'),\n",
       " ('dalton', 'Da'),\n",
       " ('atomic unit of mass (au)', 'm_e'),\n",
       " ('metre', 'm'),\n",
       " ('angstrom', 'Å'),\n",
       " ('bohr radius (au)', 'a0'),\n",
       " ('centimetre', 'cm'),\n",
       " ('millimetre', 'mm'),\n",
       " ('micrometre', 'μm'),\n",
       " ('nanometre', 'nm'),\n",
       " ('picometre', 'pm'),\n",
       " ('femtometre', 'fm'),\n",
       " ('attometre', 'am'),\n",
       " ('second', 's'),\n",
       " ('centisecond', 'cs'),\n",
       " ('millisecond', 'ms'),\n",
       " ('microsecond', 'μs'),\n",
       " ('nanosecond', 'ns'),\n",
       " ('picosecond', 'ps'),\n",
       " ('femtosecond', 'fs'),\n",
       " ('attosecond', 'as'),\n",
       " ('ampere', 'A'),\n",
       " ('kelvin', 'K'),\n",
       " ('degree Celsius', '°C'),\n",
       " ('mole', 'mol'),\n",
       " ('candela', 'cd'),\n",
       " ('radian', 'rad'),\n",
       " ('degree', 'deg'),\n",
       " ('square metre', 'm^2'),\n",
       " ('cubic metre', 'm^3'),\n",
       " ('litre', 'l'),\n",
       " ('hertz', 'Hz'),\n",
       " ('kilogram per cubic metre', 'kg.m^-3'),\n",
       " ('pascal', 'Pa'),\n",
       " ('standard atmosphere', 'atm'),\n",
       " ('bar', 'bar'),\n",
       " ('Coulomb', 'C'),\n",
       " ('atomic unit of charge (au)', 'e'),\n",
       " ('metre per second', 'm.s^-1'),\n",
       " ('kilogram metre per second', 'kg.m.s^-1'),\n",
       " ('metre per second squared', 'm.s^-2'),\n",
       " ('newton', 'N'),\n",
       " ('joule', 'J'),\n",
       " ('kilocalorie', 'kcal'),\n",
       " ('electronvolt', 'eV'),\n",
       " ('hartree (a.u.)', 'E_h'))"
      ]
     },
     "execution_count": 2,
     "metadata": {},
     "output_type": "execute_result"
    }
   ],
   "source": [
    "Unit.supported_input_units()"
   ]
  },
  {
   "cell_type": "markdown",
   "id": "ac0ba6bf",
   "metadata": {},
   "source": [
    "## Instantiation"
   ]
  },
  {
   "cell_type": "markdown",
   "id": "30cbca2b",
   "metadata": {},
   "source": [
    "### From a string"
   ]
  },
  {
   "cell_type": "markdown",
   "id": "887d30b4",
   "metadata": {},
   "source": [
    "A `Unit` can simply be created by using any of the above names or their corresponding symbols. For example: "
   ]
  },
  {
   "cell_type": "code",
   "execution_count": 3,
   "id": "d5678510",
   "metadata": {},
   "outputs": [
    {
     "data": {
      "text/plain": [
       "Unit([0.0, 0.0, 0.0, 0.0, 1.0, 0.0, 0.0, 0.0, 0.0, 0.0, 0.0, 0.0, 0.0, 0.0, 0.0, 0.0, 0.0, 0.0, 0.0, 0.0, 0.0, 0.0, 0.0, 0.0, 0.0, 0.0, 0.0, 0.0, 0.0, 0.0, 0.0, 0.0, 0.0, 0.0, 0.0, 0.0, 0.0, 0.0, 0.0, 0.0, 0.0, 0.0, 0.0, 0.0, 0.0, 0.0, 0.0])"
      ]
     },
     "execution_count": 3,
     "metadata": {},
     "output_type": "execute_result"
    }
   ],
   "source": [
    "Unit(\"m\")"
   ]
  },
  {
   "cell_type": "markdown",
   "id": "034c40c8",
   "metadata": {},
   "source": [
    "is the same as:"
   ]
  },
  {
   "cell_type": "code",
   "execution_count": 4,
   "id": "aa7376f1",
   "metadata": {},
   "outputs": [
    {
     "data": {
      "text/plain": [
       "Unit([0.0, 0.0, 0.0, 0.0, 1.0, 0.0, 0.0, 0.0, 0.0, 0.0, 0.0, 0.0, 0.0, 0.0, 0.0, 0.0, 0.0, 0.0, 0.0, 0.0, 0.0, 0.0, 0.0, 0.0, 0.0, 0.0, 0.0, 0.0, 0.0, 0.0, 0.0, 0.0, 0.0, 0.0, 0.0, 0.0, 0.0, 0.0, 0.0, 0.0, 0.0, 0.0, 0.0, 0.0, 0.0, 0.0, 0.0])"
      ]
     },
     "execution_count": 4,
     "metadata": {},
     "output_type": "execute_result"
    }
   ],
   "source": [
    "Unit(\"metre\")"
   ]
  },
  {
   "cell_type": "markdown",
   "id": "f90bcb46",
   "metadata": {},
   "source": [
    "Of course, all available units can also be exponentiated and combined to create any other unit."
   ]
  },
  {
   "cell_type": "markdown",
   "id": "eccc5f13",
   "metadata": {},
   "source": [
    "For exponentiation, a unit's name or symbol must be followed by a `^` and then its exponent. For example:"
   ]
  },
  {
   "cell_type": "code",
   "execution_count": 5,
   "id": "da54eb4a",
   "metadata": {},
   "outputs": [
    {
     "data": {
      "text/plain": [
       "Unit([0.0, 0.0, 0.0, 0.0, 2.0, 0.0, 0.0, 0.0, 0.0, 0.0, 0.0, 0.0, 0.0, 0.0, 0.0, 0.0, 0.0, 0.0, 0.0, 0.0, 0.0, 0.0, 0.0, 0.0, 0.0, 0.0, 0.0, 0.0, 0.0, 0.0, 0.0, 0.0, 0.0, 0.0, 0.0, 0.0, 0.0, 0.0, 0.0, 0.0, 0.0, 0.0, 0.0, 0.0, 0.0, 0.0, 0.0])"
      ]
     },
     "execution_count": 5,
     "metadata": {},
     "output_type": "execute_result"
    }
   ],
   "source": [
    "Unit(\"m^2\")"
   ]
  },
  {
   "cell_type": "markdown",
   "id": "a53010db",
   "metadata": {},
   "source": [
    "is the same as:"
   ]
  },
  {
   "cell_type": "code",
   "execution_count": 6,
   "id": "1bd1ac41",
   "metadata": {},
   "outputs": [
    {
     "data": {
      "text/plain": [
       "Unit([0.0, 0.0, 0.0, 0.0, 2.0, 0.0, 0.0, 0.0, 0.0, 0.0, 0.0, 0.0, 0.0, 0.0, 0.0, 0.0, 0.0, 0.0, 0.0, 0.0, 0.0, 0.0, 0.0, 0.0, 0.0, 0.0, 0.0, 0.0, 0.0, 0.0, 0.0, 0.0, 0.0, 0.0, 0.0, 0.0, 0.0, 0.0, 0.0, 0.0, 0.0, 0.0, 0.0, 0.0, 0.0, 0.0, 0.0])"
      ]
     },
     "execution_count": 6,
     "metadata": {},
     "output_type": "execute_result"
    }
   ],
   "source": [
    "Unit(\"metre^2\")"
   ]
  },
  {
   "cell_type": "markdown",
   "id": "88d1489e",
   "metadata": {},
   "source": [
    "Exponents can also be rational numbers written as a fraction:"
   ]
  },
  {
   "cell_type": "code",
   "execution_count": 7,
   "id": "0775f36c",
   "metadata": {},
   "outputs": [
    {
     "data": {
      "text/plain": [
       "Unit([0.0, 0.0, 0.0, 0.0, 1.5, 0.0, 0.0, 0.0, 0.0, 0.0, 0.0, 0.0, 0.0, 0.0, 0.0, 0.0, 0.0, 0.0, 0.0, 0.0, 0.0, 0.0, 0.0, 0.0, 0.0, 0.0, 0.0, 0.0, 0.0, 0.0, 0.0, 0.0, 0.0, 0.0, 0.0, 0.0, 0.0, 0.0, 0.0, 0.0, 0.0, 0.0, 0.0, 0.0, 0.0, 0.0, 0.0])"
      ]
     },
     "execution_count": 7,
     "metadata": {},
     "output_type": "execute_result"
    }
   ],
   "source": [
    "Unit(\"m^3/2\")"
   ]
  },
  {
   "cell_type": "markdown",
   "id": "921989bd",
   "metadata": {},
   "source": [
    "To combine units, they must be separated from each other by a `.`. For example the SI unit of energy ($\\mathrm{kg.m^2.s^{-2}}$) can be written as:"
   ]
  },
  {
   "cell_type": "code",
   "execution_count": 8,
   "id": "621d8a44",
   "metadata": {},
   "outputs": [
    {
     "data": {
      "text/plain": [
       "Unit([1.0, 0.0, 0.0, 0.0, 2.0, 0.0, 0.0, 0.0, 0.0, 0.0, 0.0, 0.0, 0.0, 0.0, -2.0, 0.0, 0.0, 0.0, 0.0, 0.0, 0.0, 0.0, 0.0, 0.0, 0.0, 0.0, 0.0, 0.0, 0.0, 0.0, 0.0, 0.0, 0.0, 0.0, 0.0, 0.0, 0.0, 0.0, 0.0, 0.0, 0.0, 0.0, 0.0, 0.0, 0.0, 0.0, 0.0])"
      ]
     },
     "execution_count": 8,
     "metadata": {},
     "output_type": "execute_result"
    }
   ],
   "source": [
    "Unit(\"kg.m^2.s^-2\")"
   ]
  },
  {
   "cell_type": "markdown",
   "id": "8b0ac2c5",
   "metadata": {},
   "source": [
    "Although since the SI unit of energy (joule) is already available, we can also just use its symbol (or name):"
   ]
  },
  {
   "cell_type": "code",
   "execution_count": 9,
   "id": "4386a4c0",
   "metadata": {},
   "outputs": [
    {
     "data": {
      "text/plain": [
       "Unit([0.0, 0.0, 0.0, 0.0, 0.0, 0.0, 0.0, 0.0, 0.0, 0.0, 0.0, 0.0, 0.0, 0.0, 0.0, 0.0, 0.0, 0.0, 0.0, 0.0, 0.0, 0.0, 0.0, 0.0, 0.0, 0.0, 0.0, 0.0, 0.0, 0.0, 0.0, 0.0, 0.0, 0.0, 0.0, 0.0, 0.0, 0.0, 0.0, 0.0, 0.0, 0.0, 0.0, 1.0, 0.0, 0.0, 0.0])"
      ]
     },
     "execution_count": 9,
     "metadata": {},
     "output_type": "execute_result"
    }
   ],
   "source": [
    "Unit(\"J\")"
   ]
  },
  {
   "cell_type": "markdown",
   "id": "08bd93f2",
   "metadata": {},
   "source": [
    "Note that while the `repr` of the two energy units is not the same, they are identical in all other ways (since $\\mathrm{J = kg.m^2.s^{-2}}$):"
   ]
  },
  {
   "cell_type": "code",
   "execution_count": 10,
   "id": "2bf23969",
   "metadata": {},
   "outputs": [
    {
     "data": {
      "text/plain": [
       "True"
      ]
     },
     "execution_count": 10,
     "metadata": {},
     "output_type": "execute_result"
    }
   ],
   "source": [
    "Unit(\"kg.m^2.s^-2\") == Unit(\"J\")"
   ]
  },
  {
   "cell_type": "markdown",
   "id": "0bd610f4",
   "metadata": {},
   "source": [
    "### From an array of exponents for all available units"
   ]
  },
  {
   "cell_type": "markdown",
   "id": "3fc3c5c9",
   "metadata": {},
   "source": [
    "The `__repr__` method shows a unique representation of the current `Unit` object, as an array of numbers corresponding to the exponents of each of the available units (see `supported_input_units`) that was used to compose the current unit. For example, in the above representation (`Unit(\"J\")`), the array has one element equal to 1 and the rest are zero, meaning that the unit was created from a single \"joule\" unit, with an exponent of 1.\n",
    "\n",
    "Indeed, the `Unit` class can also be directly instantiated with such an array (note that the array must have a length equal to the number of known units):"
   ]
  },
  {
   "cell_type": "code",
   "execution_count": 11,
   "id": "93f44e23",
   "metadata": {},
   "outputs": [
    {
     "data": {
      "text/plain": [
       "Unit([0.0, 0.0, 0.0, 0.0, 0.0, 0.0, 0.0, 0.0, 0.0, 0.0, 0.0, 0.0, 0.0, 0.0, 0.0, 0.0, 0.0, 0.0, 0.0, 0.0, 0.0, 0.0, 0.0, 0.0, 0.0, 0.0, 0.0, 0.0, 0.0, 0.0, 0.0, 0.0, 0.0, 0.0, 0.0, 0.0, 0.0, 0.0, 0.0, 0.0, 0.0, 0.0, 0.0, 1.0, 0.0, 0.0, 0.0])"
      ]
     },
     "execution_count": 11,
     "metadata": {},
     "output_type": "execute_result"
    }
   ],
   "source": [
    "Unit([0.0, 0.0, 0.0, 0.0, 0.0, 0.0, 0.0, 0.0, 0.0, 0.0, 0.0, 0.0, 0.0, 0.0, 0.0, 0.0, 0.0, 0.0, 0.0, 0.0, 0.0, 0.0, 0.0, 0.0, 0.0, 0.0, 0.0, 0.0, 0.0, 0.0, 0.0, 0.0, 0.0, 0.0, 0.0, 0.0, 0.0, 0.0, 0.0, 0.0, 0.0, 0.0, 0.0, 1.0, 0.0, 0.0, 0.0])"
   ]
  },
  {
   "cell_type": "markdown",
   "id": "8de20ecd",
   "metadata": {},
   "source": [
    "This means that the `repr` of each `Unit` object can be used to construct that object:"
   ]
  },
  {
   "cell_type": "code",
   "execution_count": 12,
   "id": "cf4c1c70",
   "metadata": {},
   "outputs": [
    {
     "data": {
      "text/plain": [
       "True"
      ]
     },
     "execution_count": 12,
     "metadata": {},
     "output_type": "execute_result"
    }
   ],
   "source": [
    "eval(repr(Unit(\"J\"))) == Unit(\"J\")"
   ]
  },
  {
   "cell_type": "markdown",
   "id": "9da9586d",
   "metadata": {},
   "source": [
    "### From an array of exponents for primary units"
   ]
  },
  {
   "cell_type": "markdown",
   "id": "395bf495",
   "metadata": {},
   "source": [
    "Another method to instantiate a `Unit` is by its **primary unit decomposition**, using the alternative constructor method `from_prim_unit_decomposition`; it takes an array of 7 numbers, corresponding to the exponents of the 7 primary units that compose the unit. The order of the primary units should be the same as in the output of `supported_input_units`, namely the conventional order *kilogram, metre, second, ampere, kelvin, mole, candela*:"
   ]
  },
  {
   "cell_type": "code",
   "execution_count": 13,
   "id": "aaa26714",
   "metadata": {},
   "outputs": [
    {
     "data": {
      "text/plain": [
       "Unit([1.0, 0.0, 0.0, 0.0, 2.0, 0.0, 0.0, 0.0, 0.0, 0.0, 0.0, 0.0, 0.0, 0.0, -2.0, 0.0, 0.0, 0.0, 0.0, 0.0, 0.0, 0.0, 0.0, 0.0, 0.0, 0.0, 0.0, 0.0, 0.0, 0.0, 0.0, 0.0, 0.0, 0.0, 0.0, 0.0, 0.0, 0.0, 0.0, 0.0, 0.0, 0.0, 0.0, 0.0, 0.0, 0.0, 0.0])"
      ]
     },
     "execution_count": 13,
     "metadata": {},
     "output_type": "execute_result"
    }
   ],
   "source": [
    "Unit.from_prim_unit_decomposition([1, 2, -2, 0, 0, 0, 0])"
   ]
  },
  {
   "cell_type": "markdown",
   "id": "489347a9",
   "metadata": {},
   "source": [
    "### From a `Dimension` object"
   ]
  },
  {
   "cell_type": "markdown",
   "id": "d7c2b779",
   "metadata": {},
   "source": [
    "With the help of another alternative constructor method, `from_dimension_object`, a `Dimension` object (from the module `dimension`) can also be used to create a `Unit` object. In this case, the created unit will be the SI unit of the corresponding dimension:"
   ]
  },
  {
   "cell_type": "code",
   "execution_count": 14,
   "id": "5d5962ba",
   "metadata": {},
   "outputs": [
    {
     "data": {
      "text/plain": [
       "Unit([0.0, 0.0, 0.0, 0.0, 0.0, 0.0, 0.0, 0.0, 0.0, 0.0, 0.0, 0.0, 0.0, 0.0, 1.0, 0.0, 0.0, 0.0, 0.0, 0.0, 0.0, 0.0, 0.0, 0.0, 0.0, 0.0, 0.0, 0.0, 0.0, 0.0, 0.0, 0.0, 0.0, 0.0, 0.0, 0.0, 0.0, 0.0, 0.0, 0.0, 0.0, 0.0, 0.0, 1.0, 0.0, 0.0, 0.0])"
      ]
     },
     "execution_count": 14,
     "metadata": {},
     "output_type": "execute_result"
    }
   ],
   "source": [
    "from duq import Dimension\n",
    "\n",
    "action_dim = Dimension(\"E.T\")\n",
    "Unit.from_dimension_object(action_dim)"
   ]
  },
  {
   "cell_type": "markdown",
   "id": "40a5fe7d",
   "metadata": {},
   "source": [
    "### From the container object `predefined`"
   ]
  },
  {
   "cell_type": "markdown",
   "id": "9b95807a",
   "metadata": {},
   "source": [
    "In all of the above examples, we had to create units from scratch, using a combination of the available primary and derived units. However, all of these predefined units are also available directly as `Unit` objects in the container object `predefined`:"
   ]
  },
  {
   "cell_type": "code",
   "execution_count": 15,
   "id": "57d41c7d",
   "metadata": {},
   "outputs": [],
   "source": [
    "from duq.unit import predefined as units"
   ]
  },
  {
   "cell_type": "markdown",
   "id": "a0c7191e",
   "metadata": {},
   "source": [
    "After importing the `predefined` object (here `as units`), you can simply write `predefined.<TAB>` (where `<TAB>` means pressing the `TAB` button on your keyboard), and your IDE's code auto-completion will show you a list of all available units you can simply choose from. For ease of use, these are categorized into `primary` and `derived` and then further into their corresponding dimensions.   \n",
    "For example:"
   ]
  },
  {
   "cell_type": "code",
   "execution_count": 16,
   "id": "59e52aa2",
   "metadata": {},
   "outputs": [
    {
     "data": {
      "text/plain": [
       "Unit([0.0, 0.0, 0.0, 0.0, 0.0, 0.0, 0.0, 0.0, 0.0, 0.0, 0.0, 0.0, 0.0, 0.0, 0.0, 0.0, 0.0, 0.0, 0.0, 0.0, 0.0, 0.0, 0.0, 0.0, 0.0, 0.0, 0.0, 0.0, 0.0, 0.0, 0.0, 0.0, 0.0, 0.0, 0.0, 0.0, 0.0, 0.0, 0.0, 0.0, 0.0, 0.0, 0.0, 1.0, 0.0, 0.0, 0.0])"
      ]
     },
     "execution_count": 16,
     "metadata": {},
     "output_type": "execute_result"
    }
   ],
   "source": [
    "units.derived.energy.joule"
   ]
  },
  {
   "cell_type": "markdown",
   "id": "3b135b45",
   "metadata": {},
   "source": [
    "is the same as `Unit(\"J\")`"
   ]
  },
  {
   "cell_type": "code",
   "execution_count": 17,
   "id": "0054b1dc",
   "metadata": {},
   "outputs": [
    {
     "data": {
      "text/plain": [
       "True"
      ]
     },
     "execution_count": 17,
     "metadata": {},
     "output_type": "execute_result"
    }
   ],
   "source": [
    "Unit(\"J\") == units.derived.energy.joule"
   ]
  },
  {
   "cell_type": "markdown",
   "id": "843b1a49",
   "metadata": {},
   "source": [
    "The units are defined as `property` for the object, so they cannot be modified in-place. Instead, each time a unit is called from `predefined`, it returns a new `Unit` object for that specific unit: "
   ]
  },
  {
   "cell_type": "code",
   "execution_count": 18,
   "id": "a89afc36",
   "metadata": {},
   "outputs": [
    {
     "data": {
      "text/plain": [
       "4734686592"
      ]
     },
     "execution_count": 18,
     "metadata": {},
     "output_type": "execute_result"
    }
   ],
   "source": [
    "id(units.primary.mass.kilogram)"
   ]
  },
  {
   "cell_type": "code",
   "execution_count": 19,
   "id": "07a79966",
   "metadata": {},
   "outputs": [
    {
     "data": {
      "text/plain": [
       "4734686592"
      ]
     },
     "execution_count": 19,
     "metadata": {},
     "output_type": "execute_result"
    }
   ],
   "source": [
    "id(units.primary.mass.kilogram)"
   ]
  },
  {
   "cell_type": "markdown",
   "id": "9105118e",
   "metadata": {},
   "source": [
    "## Attributes and Methods"
   ]
  },
  {
   "cell_type": "markdown",
   "id": "d69ea7cd",
   "metadata": {},
   "source": [
    "Each `Unit` object has a number of attributes (or properties) and methods, which can be used to analyze that unit."
   ]
  },
  {
   "cell_type": "markdown",
   "id": "ef78bd50",
   "metadata": {},
   "source": [
    "### Name, symbol and unit exponents"
   ]
  },
  {
   "cell_type": "markdown",
   "id": "21eecda0",
   "metadata": {},
   "source": [
    "Each `Unit` object has three variants for its `name`, `symbol` and `exponents` properties:\n",
    "* `as_is`: corresponds to the non-simplified unit composition of the `Unit` object in its current state.\n",
    "* `si`: corresponds to the equivalent SI unit composition of the unit.\n",
    "* `si_primary`: corresponds to the primary SI unit decomposition of the unit."
   ]
  },
  {
   "cell_type": "markdown",
   "id": "f2fad389",
   "metadata": {},
   "source": [
    "Of course, for a single primary dimension, all three variants are identical:"
   ]
  },
  {
   "cell_type": "code",
   "execution_count": 20,
   "id": "30c70892",
   "metadata": {},
   "outputs": [],
   "source": [
    "m = Unit(\"m\")"
   ]
  },
  {
   "cell_type": "code",
   "execution_count": 21,
   "id": "33ce5983",
   "metadata": {},
   "outputs": [
    {
     "data": {
      "text/plain": [
       "'metre'"
      ]
     },
     "execution_count": 21,
     "metadata": {},
     "output_type": "execute_result"
    }
   ],
   "source": [
    "m.name_as_is"
   ]
  },
  {
   "cell_type": "code",
   "execution_count": 22,
   "id": "3e28dfc2",
   "metadata": {},
   "outputs": [
    {
     "data": {
      "text/plain": [
       "'metre'"
      ]
     },
     "execution_count": 22,
     "metadata": {},
     "output_type": "execute_result"
    }
   ],
   "source": [
    "m.name_si"
   ]
  },
  {
   "cell_type": "code",
   "execution_count": 23,
   "id": "ec67b6f5",
   "metadata": {},
   "outputs": [
    {
     "data": {
      "text/plain": [
       "'metre'"
      ]
     },
     "execution_count": 23,
     "metadata": {},
     "output_type": "execute_result"
    }
   ],
   "source": [
    "m.name_si_primary"
   ]
  },
  {
   "cell_type": "code",
   "execution_count": 24,
   "id": "3b403b33",
   "metadata": {},
   "outputs": [
    {
     "data": {
      "text/plain": [
       "'m'"
      ]
     },
     "execution_count": 24,
     "metadata": {},
     "output_type": "execute_result"
    }
   ],
   "source": [
    "m.symbol_as_is"
   ]
  },
  {
   "cell_type": "code",
   "execution_count": 25,
   "id": "8cfc4c6c",
   "metadata": {},
   "outputs": [
    {
     "data": {
      "text/plain": [
       "'m'"
      ]
     },
     "execution_count": 25,
     "metadata": {},
     "output_type": "execute_result"
    }
   ],
   "source": [
    "m.symbol_si"
   ]
  },
  {
   "cell_type": "code",
   "execution_count": 26,
   "id": "437e276a",
   "metadata": {},
   "outputs": [
    {
     "data": {
      "text/plain": [
       "'m'"
      ]
     },
     "execution_count": 26,
     "metadata": {},
     "output_type": "execute_result"
    }
   ],
   "source": [
    "m.symbol_si_primary"
   ]
  },
  {
   "cell_type": "code",
   "execution_count": 27,
   "id": "b3f1c8fa",
   "metadata": {},
   "outputs": [
    {
     "data": {
      "text/plain": [
       "array([0., 0., 0., 0., 1., 0., 0., 0., 0., 0., 0., 0., 0., 0., 0., 0., 0.,\n",
       "       0., 0., 0., 0., 0., 0., 0., 0., 0., 0., 0., 0., 0., 0., 0., 0., 0.,\n",
       "       0., 0., 0., 0., 0., 0., 0., 0., 0., 0., 0., 0., 0.])"
      ]
     },
     "execution_count": 27,
     "metadata": {},
     "output_type": "execute_result"
    }
   ],
   "source": [
    "m.exponents_as_is"
   ]
  },
  {
   "cell_type": "code",
   "execution_count": 28,
   "id": "ecfd01f5",
   "metadata": {},
   "outputs": [
    {
     "data": {
      "text/plain": [
       "array([0., 0., 0., 0., 1., 0., 0., 0., 0., 0., 0., 0., 0., 0., 0., 0., 0.,\n",
       "       0., 0., 0., 0., 0., 0., 0., 0., 0., 0., 0., 0., 0., 0., 0., 0., 0.,\n",
       "       0., 0., 0., 0., 0., 0., 0., 0., 0., 0., 0., 0., 0.])"
      ]
     },
     "execution_count": 28,
     "metadata": {},
     "output_type": "execute_result"
    }
   ],
   "source": [
    "m.exponents_si"
   ]
  },
  {
   "cell_type": "code",
   "execution_count": 29,
   "id": "0c5192c8",
   "metadata": {},
   "outputs": [
    {
     "data": {
      "text/plain": [
       "array([0., 0., 0., 0., 1., 0., 0., 0., 0., 0., 0., 0., 0., 0., 0., 0., 0.,\n",
       "       0., 0., 0., 0., 0., 0., 0., 0., 0., 0., 0., 0., 0., 0., 0., 0., 0.,\n",
       "       0., 0., 0., 0., 0., 0., 0., 0., 0., 0., 0., 0., 0.])"
      ]
     },
     "execution_count": 29,
     "metadata": {},
     "output_type": "execute_result"
    }
   ],
   "source": [
    "m.exponents_si_primary"
   ]
  },
  {
   "cell_type": "markdown",
   "id": "65cd5cfb",
   "metadata": {},
   "source": [
    "However, this is not true for a derived non-SI unit. For example, let's take the unit $\\mathrm{kilocalorie}*\\mathrm{nanosecond}$, as a unit of the physical quantity $\\mathrm{action}$. The equivalent SI unit of this unit would then be $\\mathrm{joule}*\\mathrm{second}$, whereas its equivalent SI primary unit decomposition would be $\\mathrm{kilogram}*\\mathrm{metre}^2*\\mathrm{second}^{-1}$:"
   ]
  },
  {
   "cell_type": "code",
   "execution_count": 30,
   "id": "de23dc8e",
   "metadata": {},
   "outputs": [],
   "source": [
    "action = Unit(\"kcal.ns\")"
   ]
  },
  {
   "cell_type": "code",
   "execution_count": 31,
   "id": "436002f4",
   "metadata": {},
   "outputs": [
    {
     "data": {
      "text/plain": [
       "'kilocalorie . nanosecond'"
      ]
     },
     "execution_count": 31,
     "metadata": {},
     "output_type": "execute_result"
    }
   ],
   "source": [
    "action.name_as_is"
   ]
  },
  {
   "cell_type": "code",
   "execution_count": 32,
   "id": "d768d801",
   "metadata": {},
   "outputs": [
    {
     "data": {
      "text/plain": [
       "'kcal.ns'"
      ]
     },
     "execution_count": 32,
     "metadata": {},
     "output_type": "execute_result"
    }
   ],
   "source": [
    "action.symbol_as_is"
   ]
  },
  {
   "cell_type": "code",
   "execution_count": 33,
   "id": "64c1a920",
   "metadata": {},
   "outputs": [
    {
     "data": {
      "text/plain": [
       "array([0., 0., 0., 0., 0., 0., 0., 0., 0., 0., 0., 0., 0., 0., 0., 0., 0.,\n",
       "       0., 1., 0., 0., 0., 0., 0., 0., 0., 0., 0., 0., 0., 0., 0., 0., 0.,\n",
       "       0., 0., 0., 0., 0., 0., 0., 0., 0., 0., 1., 0., 0.])"
      ]
     },
     "execution_count": 33,
     "metadata": {},
     "output_type": "execute_result"
    }
   ],
   "source": [
    "action.exponents_as_is"
   ]
  },
  {
   "cell_type": "code",
   "execution_count": 34,
   "id": "5c2af350",
   "metadata": {},
   "outputs": [
    {
     "data": {
      "text/plain": [
       "'joule . second'"
      ]
     },
     "execution_count": 34,
     "metadata": {},
     "output_type": "execute_result"
    }
   ],
   "source": [
    "action.name_si"
   ]
  },
  {
   "cell_type": "code",
   "execution_count": 35,
   "id": "67bb9407",
   "metadata": {},
   "outputs": [
    {
     "data": {
      "text/plain": [
       "'J.s'"
      ]
     },
     "execution_count": 35,
     "metadata": {},
     "output_type": "execute_result"
    }
   ],
   "source": [
    "action.symbol_si"
   ]
  },
  {
   "cell_type": "code",
   "execution_count": 36,
   "id": "3536273c",
   "metadata": {},
   "outputs": [
    {
     "data": {
      "text/plain": [
       "array([0., 0., 0., 0., 0., 0., 0., 0., 0., 0., 0., 0., 0., 0., 1., 0., 0.,\n",
       "       0., 0., 0., 0., 0., 0., 0., 0., 0., 0., 0., 0., 0., 0., 0., 0., 0.,\n",
       "       0., 0., 0., 0., 0., 0., 0., 0., 0., 1., 0., 0., 0.])"
      ]
     },
     "execution_count": 36,
     "metadata": {},
     "output_type": "execute_result"
    }
   ],
   "source": [
    "action.exponents_si"
   ]
  },
  {
   "cell_type": "code",
   "execution_count": 37,
   "id": "0670d292",
   "metadata": {},
   "outputs": [
    {
     "data": {
      "text/plain": [
       "'kilogram . metre² . second⁻¹'"
      ]
     },
     "execution_count": 37,
     "metadata": {},
     "output_type": "execute_result"
    }
   ],
   "source": [
    "action.name_si_primary"
   ]
  },
  {
   "cell_type": "code",
   "execution_count": 38,
   "id": "306c1d00",
   "metadata": {},
   "outputs": [
    {
     "data": {
      "text/plain": [
       "'kg.m².s⁻¹'"
      ]
     },
     "execution_count": 38,
     "metadata": {},
     "output_type": "execute_result"
    }
   ],
   "source": [
    "action.symbol_si_primary"
   ]
  },
  {
   "cell_type": "code",
   "execution_count": 39,
   "id": "8d99a308",
   "metadata": {},
   "outputs": [
    {
     "data": {
      "text/plain": [
       "array([ 1.,  0.,  0.,  0.,  2.,  0.,  0.,  0.,  0.,  0.,  0.,  0.,  0.,\n",
       "        0., -1.,  0.,  0.,  0.,  0.,  0.,  0.,  0.,  0.,  0.,  0.,  0.,\n",
       "        0.,  0.,  0.,  0.,  0.,  0.,  0.,  0.,  0.,  0.,  0.,  0.,  0.,\n",
       "        0.,  0.,  0.,  0.,  0.,  0.,  0.,  0.])"
      ]
     },
     "execution_count": 39,
     "metadata": {},
     "output_type": "execute_result"
    }
   ],
   "source": [
    "action.exponents_si_primary"
   ]
  },
  {
   "cell_type": "markdown",
   "id": "8bf50925",
   "metadata": {},
   "source": [
    "### Dimension"
   ]
  },
  {
   "cell_type": "markdown",
   "id": "10aacb30",
   "metadata": {},
   "source": [
    "Each `Unit` object has a corresponding `Dimension` object, which contains information about its dimension:"
   ]
  },
  {
   "cell_type": "code",
   "execution_count": 40,
   "id": "6d197747",
   "metadata": {},
   "outputs": [
    {
     "data": {
      "text/plain": [
       "Dimension([0.0, 0.0, 0.0, 0.0, 0.0, 0.0, 0.0, 0.0, 0.0, 0.0, 0.0, 0.0, 0.0, 0.0, 0.0, 0.0, 0.0, 0.0, 1.0])"
      ]
     },
     "execution_count": 40,
     "metadata": {},
     "output_type": "execute_result"
    }
   ],
   "source": [
    "Unit(\"J\").dimension"
   ]
  },
  {
   "cell_type": "markdown",
   "id": "3c4067b1",
   "metadata": {},
   "source": [
    "This `Dimension` object can also be analyzed separately, using all the functionalities available to it (see the documentation of `Dimension`). For example:"
   ]
  },
  {
   "cell_type": "code",
   "execution_count": 41,
   "id": "a7a23601",
   "metadata": {},
   "outputs": [
    {
     "name": "stdout",
     "output_type": "stream",
     "text": [
      "As is:    E = energy [J]\n",
      "Shortest: E = energy [J]\n",
      "Primary:  ML²T⁻² = mass . length² . time⁻² [kg.m².s⁻²]\n"
     ]
    }
   ],
   "source": [
    "print(Unit(\"J\").dimension)"
   ]
  },
  {
   "cell_type": "markdown",
   "id": "fde0d7d6",
   "metadata": {},
   "source": [
    "The method `has_same_dimension` allows for testing whether two `Unit` objects (or a `Unit` and a `Dimension`) have the same dimension:"
   ]
  },
  {
   "cell_type": "code",
   "execution_count": 42,
   "id": "6482dc53",
   "metadata": {},
   "outputs": [
    {
     "data": {
      "text/plain": [
       "True"
      ]
     },
     "execution_count": 42,
     "metadata": {},
     "output_type": "execute_result"
    }
   ],
   "source": [
    "Unit(\"J\").has_same_dimension(Unit(\"kcal\"))"
   ]
  },
  {
   "cell_type": "markdown",
   "id": "753a6d5f",
   "metadata": {},
   "source": [
    "However, this is only a convenience method, since this equality can also be checked by directly comparing the `Dimension` objects attached to each unit:"
   ]
  },
  {
   "cell_type": "code",
   "execution_count": 43,
   "id": "922f206b",
   "metadata": {},
   "outputs": [
    {
     "data": {
      "text/plain": [
       "True"
      ]
     },
     "execution_count": 43,
     "metadata": {},
     "output_type": "execute_result"
    }
   ],
   "source": [
    "Unit(\"J\").dimension == Unit(\"kcal\").dimension"
   ]
  },
  {
   "cell_type": "markdown",
   "id": "500d8abc",
   "metadata": {},
   "source": [
    "### String representation"
   ]
  },
  {
   "cell_type": "markdown",
   "id": "7d804b55",
   "metadata": {},
   "source": [
    "The `Unit` object's `__str__` method can be used to display an overview of the unit's name and symbol in all three variants discussed above. It also contains the corresponding `Dimension` object's string representation in itself:"
   ]
  },
  {
   "cell_type": "code",
   "execution_count": 44,
   "id": "be817702",
   "metadata": {},
   "outputs": [
    {
     "name": "stdout",
     "output_type": "stream",
     "text": [
      "Unit:\n",
      "-----\n",
      "As is:      kcal.ns = kilocalorie . nanosecond\n",
      "SI:         J.s = joule . second\n",
      "SI primary: kg.m².s⁻¹ = kilogram . metre² . second⁻¹\n",
      "\n",
      "Dimension:\n",
      "----------\n",
      "As is:    ET = energy . time [J.s]\n",
      "Shortest: MomL = momentum . length [(kg.m.s⁻¹.m]\n",
      "Primary:  ML²T⁻¹ = mass . length² . time⁻¹ [kg.m².s⁻¹]\n"
     ]
    }
   ],
   "source": [
    "print(Unit(\"kcal.ns\"))"
   ]
  },
  {
   "cell_type": "markdown",
   "id": "f2c59058",
   "metadata": {},
   "source": [
    "### Testing whether a unit is an SI unit"
   ]
  },
  {
   "cell_type": "markdown",
   "id": "a4632490",
   "metadata": {},
   "source": [
    "The property `is_si_unit` tells whether the `Unit` object represents an SI unit (i.e. it is exclusively composed of SI units):"
   ]
  },
  {
   "cell_type": "code",
   "execution_count": 45,
   "id": "b2a3a7ab",
   "metadata": {},
   "outputs": [
    {
     "data": {
      "text/plain": [
       "True"
      ]
     },
     "execution_count": 45,
     "metadata": {},
     "output_type": "execute_result"
    }
   ],
   "source": [
    "Unit(\"J\").is_si_unit"
   ]
  },
  {
   "cell_type": "code",
   "execution_count": 46,
   "id": "b921fdb7",
   "metadata": {},
   "outputs": [
    {
     "data": {
      "text/plain": [
       "False"
      ]
     },
     "execution_count": 46,
     "metadata": {},
     "output_type": "execute_result"
    }
   ],
   "source": [
    "Unit(\"J.ns\").is_si_unit"
   ]
  },
  {
   "cell_type": "code",
   "execution_count": 47,
   "id": "ef4cec33",
   "metadata": {},
   "outputs": [
    {
     "data": {
      "text/plain": [
       "True"
      ]
     },
     "execution_count": 47,
     "metadata": {},
     "output_type": "execute_result"
    }
   ],
   "source": [
    "Unit(\"J.s\").is_si_unit"
   ]
  },
  {
   "cell_type": "markdown",
   "id": "840e28ec",
   "metadata": {},
   "source": [
    "### Creating equivalent `Unit` objects"
   ]
  },
  {
   "cell_type": "markdown",
   "id": "85befb1e",
   "metadata": {},
   "source": [
    "The above equivalent units, i.e. `si` and `si_primary`, can also be obtained directly as `Unit` object, using the `equiv_unit_` properties:"
   ]
  },
  {
   "cell_type": "code",
   "execution_count": 48,
   "id": "0add29c9",
   "metadata": {},
   "outputs": [],
   "source": [
    "action = Unit(\"kcal.ns\")"
   ]
  },
  {
   "cell_type": "code",
   "execution_count": 49,
   "id": "923e1abf",
   "metadata": {},
   "outputs": [
    {
     "data": {
      "text/plain": [
       "Unit([0.0, 0.0, 0.0, 0.0, 0.0, 0.0, 0.0, 0.0, 0.0, 0.0, 0.0, 0.0, 0.0, 0.0, 1.0, 0.0, 0.0, 0.0, 0.0, 0.0, 0.0, 0.0, 0.0, 0.0, 0.0, 0.0, 0.0, 0.0, 0.0, 0.0, 0.0, 0.0, 0.0, 0.0, 0.0, 0.0, 0.0, 0.0, 0.0, 0.0, 0.0, 0.0, 0.0, 1.0, 0.0, 0.0, 0.0])"
      ]
     },
     "execution_count": 49,
     "metadata": {},
     "output_type": "execute_result"
    }
   ],
   "source": [
    "action.equiv_unit_si"
   ]
  },
  {
   "cell_type": "code",
   "execution_count": 50,
   "id": "4ed64295",
   "metadata": {},
   "outputs": [
    {
     "data": {
      "text/plain": [
       "Unit([1.0, 0.0, 0.0, 0.0, 2.0, 0.0, 0.0, 0.0, 0.0, 0.0, 0.0, 0.0, 0.0, 0.0, -1.0, 0.0, 0.0, 0.0, 0.0, 0.0, 0.0, 0.0, 0.0, 0.0, 0.0, 0.0, 0.0, 0.0, 0.0, 0.0, 0.0, 0.0, 0.0, 0.0, 0.0, 0.0, 0.0, 0.0, 0.0, 0.0, 0.0, 0.0, 0.0, 0.0, 0.0, 0.0, 0.0])"
      ]
     },
     "execution_count": 50,
     "metadata": {},
     "output_type": "execute_result"
    }
   ],
   "source": [
    "action.equiv_unit_si_primary"
   ]
  },
  {
   "cell_type": "markdown",
   "id": "50fa89d7",
   "metadata": {},
   "source": [
    "### Converting units"
   ]
  },
  {
   "cell_type": "markdown",
   "id": "b4115a39",
   "metadata": {},
   "source": [
    "#### Testing whether a unit is convertible to another unit"
   ]
  },
  {
   "cell_type": "markdown",
   "id": "e5a8d5b3",
   "metadata": {},
   "source": [
    "Two units are convertible to another if they have the same primary dimension decomposition. However, there is an exception, and that is when one of the units' dimensions contains the dimension of *amount of substance* (N). In this case, the exponents of N in both units dimensions should be ignored. In other words, every unit/dimension can be (de)molarized. For example, the units $\\mathrm{kilocalorie}$ and $\\mathrm{kilocalorie per mole}$ don't have the same primary dimension decomposition; nevertheless they can be converted into each other."
   ]
  },
  {
   "cell_type": "markdown",
   "id": "1c7a93b7",
   "metadata": {},
   "source": [
    "To test whether to units are convertible to each other, the method `is_convertible_to` can be used. As input it can take either a string representation of another unit, or another `Unit` object:"
   ]
  },
  {
   "cell_type": "code",
   "execution_count": 51,
   "id": "b93cdd55",
   "metadata": {},
   "outputs": [
    {
     "data": {
      "text/plain": [
       "True"
      ]
     },
     "execution_count": 51,
     "metadata": {},
     "output_type": "execute_result"
    }
   ],
   "source": [
    "Unit(\"kcal\").is_convertible_to(\"kcal.mol^-1\")"
   ]
  },
  {
   "cell_type": "code",
   "execution_count": 52,
   "id": "33c77a8f",
   "metadata": {},
   "outputs": [
    {
     "data": {
      "text/plain": [
       "True"
      ]
     },
     "execution_count": 52,
     "metadata": {},
     "output_type": "execute_result"
    }
   ],
   "source": [
    "Unit(\"kcal\").is_convertible_to(Unit(\"J\"))"
   ]
  },
  {
   "cell_type": "code",
   "execution_count": 53,
   "id": "dd3580fa",
   "metadata": {},
   "outputs": [
    {
     "data": {
      "text/plain": [
       "True"
      ]
     },
     "execution_count": 53,
     "metadata": {},
     "output_type": "execute_result"
    }
   ],
   "source": [
    "Unit(\"kcal\").is_convertible_to(\"kg.m^2.s^-2\")"
   ]
  },
  {
   "cell_type": "code",
   "execution_count": 54,
   "id": "cef902fd",
   "metadata": {},
   "outputs": [
    {
     "data": {
      "text/plain": [
       "False"
      ]
     },
     "execution_count": 54,
     "metadata": {},
     "output_type": "execute_result"
    }
   ],
   "source": [
    "Unit(\"kcal\").is_convertible_to(\"kelvin\")"
   ]
  },
  {
   "cell_type": "markdown",
   "id": "1ca77712",
   "metadata": {},
   "source": [
    "#### Calculating conversion coefficients"
   ]
  },
  {
   "cell_type": "markdown",
   "id": "95f754e9",
   "metadata": {},
   "source": [
    "Converting a unit to another unit (in case they are convertible) requires a conversion shift (e.g. for units of temperature where the conversion is additive), a conversion factor (for most other units where the conversion in multiplicative), or both (e.g. for derived units that contain temperature units with positive exponents).   \n",
    "\n",
    "\n",
    "The conversion shift and factor resulting from converting a unit to its SI unit can be obtained from the method `conversion_coefficients_to_si`. It returns a tuple of two numbers, where the first number is the conversion shift, and the second number is the conversion factor. In order to correctly convert the corresponding value of the unit, it should first be added to the conversion shift, and then multiplied with the conversion factor: "
   ]
  },
  {
   "cell_type": "code",
   "execution_count": 55,
   "id": "b555839e",
   "metadata": {},
   "outputs": [
    {
     "data": {
      "text/plain": [
       "(0.0, 1.0)"
      ]
     },
     "execution_count": 55,
     "metadata": {},
     "output_type": "execute_result"
    }
   ],
   "source": [
    "Unit(\"J\").conversion_coefficients_to_si"
   ]
  },
  {
   "cell_type": "code",
   "execution_count": 56,
   "id": "e69fdd19",
   "metadata": {},
   "outputs": [
    {
     "data": {
      "text/plain": [
       "(0.0, 4184.0)"
      ]
     },
     "execution_count": 56,
     "metadata": {},
     "output_type": "execute_result"
    }
   ],
   "source": [
    "Unit(\"kcal\").conversion_coefficients_to_si"
   ]
  },
  {
   "cell_type": "code",
   "execution_count": 57,
   "id": "a22a5952",
   "metadata": {},
   "outputs": [
    {
     "data": {
      "text/plain": [
       "(273.15, 1.0)"
      ]
     },
     "execution_count": 57,
     "metadata": {},
     "output_type": "execute_result"
    }
   ],
   "source": [
    "Unit(\"degree Celsius\").conversion_coefficients_to_si"
   ]
  },
  {
   "cell_type": "code",
   "execution_count": 58,
   "id": "ad8aa578",
   "metadata": {},
   "outputs": [
    {
     "data": {
      "text/plain": [
       "(273.15, 6.241509074460763e+18)"
      ]
     },
     "execution_count": 58,
     "metadata": {},
     "output_type": "execute_result"
    }
   ],
   "source": [
    "Unit(\"°C.eV^-1\").conversion_coefficients_to_si"
   ]
  },
  {
   "cell_type": "markdown",
   "id": "2b3ba163",
   "metadata": {},
   "source": [
    "To get the conversion shift and factor for converting a unit to another non-SI unit, the `conversion_coefficients_to` method is used, where the target unit should be specified, either as a string, or as another `Unit` object:"
   ]
  },
  {
   "cell_type": "code",
   "execution_count": 59,
   "id": "f080e6f8",
   "metadata": {},
   "outputs": [
    {
     "data": {
      "text/plain": [
       "(0.0, 10.0)"
      ]
     },
     "execution_count": 59,
     "metadata": {},
     "output_type": "execute_result"
    }
   ],
   "source": [
    "Unit(\"nm\").conversion_coefficients_to(\"Å\")"
   ]
  },
  {
   "cell_type": "code",
   "execution_count": 60,
   "id": "f98c2565",
   "metadata": {},
   "outputs": [
    {
     "data": {
      "text/plain": [
       "(0.0, 6.022140762081123e+23)"
      ]
     },
     "execution_count": 60,
     "metadata": {},
     "output_type": "execute_result"
    }
   ],
   "source": [
    "Unit(\"g\").conversion_coefficients_to(Unit(\"Da\"))"
   ]
  },
  {
   "cell_type": "markdown",
   "id": "a31ffb34",
   "metadata": {},
   "source": [
    "Of course, the method first checks whether the two units are convertible at all, and throws an error if that's not the case:"
   ]
  },
  {
   "cell_type": "code",
   "execution_count": 61,
   "id": "0a6a765b",
   "metadata": {},
   "outputs": [
    {
     "name": "stdout",
     "output_type": "stream",
     "text": [
      "The current unit's dimension does not match with the target unit.\n"
     ]
    }
   ],
   "source": [
    "try:\n",
    "    Unit(\"g\").conversion_coefficients_to(\"m\")\n",
    "except ValueError as e:\n",
    "    print(e)"
   ]
  },
  {
   "cell_type": "markdown",
   "id": "ea1d78fd",
   "metadata": {},
   "source": [
    "#### Obtaining conversion coefficients and the target `Unit` object simultaneously"
   ]
  },
  {
   "cell_type": "markdown",
   "id": "154ecd9f",
   "metadata": {},
   "source": [
    "Three convenience methods are also implemented, which return the conversion coefficients and the `Unit` object of the target unit simultaneously:"
   ]
  },
  {
   "cell_type": "code",
   "execution_count": 62,
   "id": "1a641934",
   "metadata": {},
   "outputs": [
    {
     "data": {
      "text/plain": [
       "(0.0,\n",
       " 4184.0,\n",
       " Unit([0.0, 0.0, 0.0, 0.0, 0.0, 0.0, 0.0, 0.0, 0.0, 0.0, 0.0, 0.0, 0.0, 0.0, 0.0, 0.0, 0.0, 0.0, 0.0, 0.0, 0.0, 0.0, 0.0, 0.0, 0.0, -1.0, 0.0, 0.0, 0.0, 0.0, 0.0, 0.0, 0.0, 0.0, 0.0, 0.0, 0.0, 0.0, 0.0, 0.0, 0.0, 0.0, 0.0, 1.0, 0.0, 0.0, 0.0]))"
      ]
     },
     "execution_count": 62,
     "metadata": {},
     "output_type": "execute_result"
    }
   ],
   "source": [
    "Unit(\"kcal.mol^-1\").convert_to_si"
   ]
  },
  {
   "cell_type": "code",
   "execution_count": 63,
   "id": "d2438540",
   "metadata": {},
   "outputs": [
    {
     "data": {
      "text/plain": [
       "(0.0,\n",
       " 4184.0,\n",
       " Unit([1.0, 0.0, 0.0, 0.0, 2.0, 0.0, 0.0, 0.0, 0.0, 0.0, 0.0, 0.0, 0.0, 0.0, -2.0, 0.0, 0.0, 0.0, 0.0, 0.0, 0.0, 0.0, 0.0, 0.0, 0.0, -1.0, 0.0, 0.0, 0.0, 0.0, 0.0, 0.0, 0.0, 0.0, 0.0, 0.0, 0.0, 0.0, 0.0, 0.0, 0.0, 0.0, 0.0, 0.0, 0.0, 0.0, 0.0]))"
      ]
     },
     "execution_count": 63,
     "metadata": {},
     "output_type": "execute_result"
    }
   ],
   "source": [
    "Unit(\"kcal.mol^-1\").convert_to_si_primary"
   ]
  },
  {
   "cell_type": "code",
   "execution_count": 64,
   "id": "f8f264d9",
   "metadata": {},
   "outputs": [
    {
     "data": {
      "text/plain": [
       "(0.0,\n",
       " 0.043364104241800934,\n",
       " Unit([0.0, 0.0, 0.0, 0.0, 0.0, 0.0, 0.0, 0.0, 0.0, 0.0, 0.0, 0.0, 0.0, 0.0, 0.0, 0.0, 0.0, 0.0, 0.0, 0.0, 0.0, 0.0, 0.0, 0.0, 0.0, 0.0, 0.0, 0.0, 0.0, 0.0, 0.0, 0.0, 0.0, 0.0, 0.0, 0.0, 0.0, 0.0, 0.0, 0.0, 0.0, 0.0, 0.0, 0.0, 0.0, 1.0, 0.0]))"
      ]
     },
     "execution_count": 64,
     "metadata": {},
     "output_type": "execute_result"
    }
   ],
   "source": [
    "Unit(\"kcal.mol^-1\").convert_to(\"eV\")"
   ]
  },
  {
   "cell_type": "markdown",
   "id": "27144a92",
   "metadata": {},
   "source": [
    "## Mathematical Operations"
   ]
  },
  {
   "cell_type": "markdown",
   "id": "267c1775",
   "metadata": {},
   "source": [
    "### Equality"
   ]
  },
  {
   "cell_type": "markdown",
   "id": "017d5edf",
   "metadata": {},
   "source": [
    "Two units are equal when they have the same dimension, and the same conversion shift and conversion factor to the corresponding SI unit:"
   ]
  },
  {
   "cell_type": "code",
   "execution_count": 65,
   "id": "b9ca80fd",
   "metadata": {},
   "outputs": [
    {
     "data": {
      "text/plain": [
       "True"
      ]
     },
     "execution_count": 65,
     "metadata": {},
     "output_type": "execute_result"
    }
   ],
   "source": [
    "Unit(\"J\") == Unit(\"kg.m^2.s^-2\")"
   ]
  },
  {
   "cell_type": "code",
   "execution_count": 66,
   "id": "bfaa2546",
   "metadata": {},
   "outputs": [
    {
     "data": {
      "text/plain": [
       "False"
      ]
     },
     "execution_count": 66,
     "metadata": {},
     "output_type": "execute_result"
    }
   ],
   "source": [
    "Unit(\"J\") == Unit(\"kcal\")"
   ]
  },
  {
   "cell_type": "markdown",
   "id": "fcaf9bea",
   "metadata": {},
   "source": [
    "### Multiplication, division, and exponentiation"
   ]
  },
  {
   "cell_type": "markdown",
   "id": "f4126ad1",
   "metadata": {},
   "source": [
    "Any unit can be multiplied with, or divided by another unit to create a new unit. Units can also be exponentiated by a number:"
   ]
  },
  {
   "cell_type": "code",
   "execution_count": 67,
   "id": "20f21787",
   "metadata": {},
   "outputs": [
    {
     "data": {
      "text/plain": [
       "True"
      ]
     },
     "execution_count": 67,
     "metadata": {},
     "output_type": "execute_result"
    }
   ],
   "source": [
    "a = Unit(\"m\") ** 2\n",
    "a == Unit(\"m^2\")"
   ]
  },
  {
   "cell_type": "code",
   "execution_count": 68,
   "id": "0363f8b5",
   "metadata": {},
   "outputs": [
    {
     "data": {
      "text/plain": [
       "True"
      ]
     },
     "execution_count": 68,
     "metadata": {},
     "output_type": "execute_result"
    }
   ],
   "source": [
    "j = Unit(\"kg\") * Unit(\"m\") ** 2 * Unit(\"s\") ** -2\n",
    "j == Unit(\"joule\")"
   ]
  },
  {
   "cell_type": "code",
   "execution_count": 69,
   "id": "1343056e",
   "metadata": {},
   "outputs": [
    {
     "name": "stdout",
     "output_type": "stream",
     "text": [
      "Unit:\n",
      "-----\n",
      "As is:      J.N⁻¹ = joule . newton⁻¹\n",
      "SI:         J.N⁻¹ = joule . newton⁻¹\n",
      "SI primary: m = metre\n",
      "\n",
      "Dimension:\n",
      "----------\n",
      "As is:    EF⁻¹ = energy . force⁻¹ [J.N⁻¹]\n",
      "Shortest: L = length [m]\n",
      "Primary:  L = length [m]\n"
     ]
    }
   ],
   "source": [
    "print(Unit(\"J\") / Unit(\"N\"))"
   ]
  }
 ],
 "metadata": {
  "kernelspec": {
   "display_name": "Python (mdsim)",
   "language": "python",
   "name": "mdsim_water"
  },
  "language_info": {
   "codemirror_mode": {
    "name": "ipython",
    "version": 3
   },
   "file_extension": ".py",
   "mimetype": "text/x-python",
   "name": "python",
   "nbconvert_exporter": "python",
   "pygments_lexer": "ipython3",
   "version": "3.9.7"
  }
 },
 "nbformat": 4,
 "nbformat_minor": 5
}