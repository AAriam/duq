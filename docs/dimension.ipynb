{
 "cells": [
  {
   "cell_type": "markdown",
   "id": "07a47150",
   "metadata": {},
   "source": [
    "# The `dimension` Module"
   ]
  },
  {
   "cell_type": "markdown",
   "id": "64064f55",
   "metadata": {},
   "source": [
    "## Introduction"
   ]
  },
  {
   "cell_type": "markdown",
   "id": "bbb563be",
   "metadata": {},
   "source": [
    "The module `dimension` offers tools for **dimensional analysis**. It contains a class `Dimension` allowing for creating objects that represent a physical dimension:"
   ]
  },
  {
   "cell_type": "code",
   "execution_count": 1,
   "id": "f1f4a32c",
   "metadata": {},
   "outputs": [],
   "source": [
    "from mdsim.physical_quantities.dimension import Dimension"
   ]
  },
  {
   "cell_type": "markdown",
   "id": "08c39f6b",
   "metadata": {},
   "source": [
    "Any physical dimension can be expressed as a product of a number of **primary dimensions**. There are many possibilities for selecting a set of primary physical dimensions. According to SI, these primary dimensions are **mass** (M), **length** (L), **time** (T), **electric current** (I), **temperature** (Θ), **amount of substance** (N) and **luminous intensity** (J). Thus, any dimension can be written as a combination of these 7 primary dimensions, in the form $\\mathrm{M}^a\\mathrm{L}^b\\mathrm{T}^c\\mathrm{I}^d\\mathrm{Θ}^e\\mathrm{N}^f\\mathrm{J}^g$."
   ]
  },
  {
   "cell_type": "markdown",
   "id": "093ffe93",
   "metadata": {},
   "source": [
    "In this module, besides the seven SI primary dimensions (which is the absolute minimum required for expressing all possible physical dimensions), we have also implemented a number of derived dimensions for convenience, which allows for a more thorough dimensional analysis, and also you don't have to create every derived dimension from scratch."
   ]
  },
  {
   "cell_type": "markdown",
   "id": "3e96f3c2",
   "metadata": {},
   "source": [
    "A list of already **available dimensions** can be viewed using the class method `supported_input_dimensions`:"
   ]
  },
  {
   "cell_type": "code",
   "execution_count": 2,
   "id": "2531906c",
   "metadata": {},
   "outputs": [
    {
     "data": {
      "text/plain": [
       "(('mass', 'M'),\n",
       " ('length', 'L'),\n",
       " ('time', 'T'),\n",
       " ('electric current', 'I'),\n",
       " ('temperature', 'Θ'),\n",
       " ('amount of substance', 'N'),\n",
       " ('luminous intensity', 'J'),\n",
       " ('dimensionless', '1'),\n",
       " ('area', 'Ar'),\n",
       " ('volume', 'Vol'),\n",
       " ('frequency', 'ν'),\n",
       " ('density', 'ρ'),\n",
       " ('pressure', 'P'),\n",
       " ('electric charge', 'Q'),\n",
       " ('velocity', 'V'),\n",
       " ('momentum', 'Mom'),\n",
       " ('acceleration', 'A'),\n",
       " ('force', 'F'),\n",
       " ('energy', 'E'))"
      ]
     },
     "execution_count": 2,
     "metadata": {},
     "output_type": "execute_result"
    }
   ],
   "source": [
    "Dimension.supported_input_dimensions()"
   ]
  },
  {
   "cell_type": "markdown",
   "id": "e84fdcba",
   "metadata": {},
   "source": [
    "## Instantiation"
   ]
  },
  {
   "cell_type": "markdown",
   "id": "0169b86c",
   "metadata": {},
   "source": [
    "### From a string"
   ]
  },
  {
   "cell_type": "markdown",
   "id": "ffa6a4ca",
   "metadata": {},
   "source": [
    "A `Dimension` can simply be created from its **name** or corresponding **symbol**, as listed above.    \n",
    "For example: "
   ]
  },
  {
   "cell_type": "code",
   "execution_count": 3,
   "id": "d2d02e81",
   "metadata": {},
   "outputs": [
    {
     "data": {
      "text/plain": [
       "Dimension([0.0, 1.0, 0.0, 0.0, 0.0, 0.0, 0.0, 0.0, 0.0, 0.0, 0.0, 0.0, 0.0, 0.0, 0.0, 0.0, 0.0, 0.0, 0.0])"
      ]
     },
     "execution_count": 3,
     "metadata": {},
     "output_type": "execute_result"
    }
   ],
   "source": [
    "Dimension(\"length\")"
   ]
  },
  {
   "cell_type": "markdown",
   "id": "e8efb272",
   "metadata": {},
   "source": [
    "is the same as:"
   ]
  },
  {
   "cell_type": "code",
   "execution_count": 4,
   "id": "fa882f68",
   "metadata": {},
   "outputs": [
    {
     "data": {
      "text/plain": [
       "Dimension([0.0, 1.0, 0.0, 0.0, 0.0, 0.0, 0.0, 0.0, 0.0, 0.0, 0.0, 0.0, 0.0, 0.0, 0.0, 0.0, 0.0, 0.0, 0.0])"
      ]
     },
     "execution_count": 4,
     "metadata": {},
     "output_type": "execute_result"
    }
   ],
   "source": [
    "Dimension(\"L\")"
   ]
  },
  {
   "cell_type": "markdown",
   "id": "64caac72",
   "metadata": {},
   "source": [
    "Of course, all available **dimensions can also be exponentiated and combined** to create any other dimension."
   ]
  },
  {
   "cell_type": "markdown",
   "id": "813ed8f0",
   "metadata": {},
   "source": [
    "For **exponentiation**, a dimension's name or symbol must be followed by a `^` character, followed by the exponent.  \n",
    "For example:"
   ]
  },
  {
   "cell_type": "code",
   "execution_count": 5,
   "id": "86914b06",
   "metadata": {},
   "outputs": [
    {
     "data": {
      "text/plain": [
       "Dimension([0.0, 2.0, 0.0, 0.0, 0.0, 0.0, 0.0, 0.0, 0.0, 0.0, 0.0, 0.0, 0.0, 0.0, 0.0, 0.0, 0.0, 0.0, 0.0])"
      ]
     },
     "execution_count": 5,
     "metadata": {},
     "output_type": "execute_result"
    }
   ],
   "source": [
    "Dimension(\"L^2\")"
   ]
  },
  {
   "cell_type": "markdown",
   "id": "d2f55935",
   "metadata": {},
   "source": [
    "is the same as:"
   ]
  },
  {
   "cell_type": "code",
   "execution_count": 6,
   "id": "5762dfef",
   "metadata": {},
   "outputs": [
    {
     "data": {
      "text/plain": [
       "Dimension([0.0, 2.0, 0.0, 0.0, 0.0, 0.0, 0.0, 0.0, 0.0, 0.0, 0.0, 0.0, 0.0, 0.0, 0.0, 0.0, 0.0, 0.0, 0.0])"
      ]
     },
     "execution_count": 6,
     "metadata": {},
     "output_type": "execute_result"
    }
   ],
   "source": [
    "Dimension(\"length^2\")"
   ]
  },
  {
   "cell_type": "markdown",
   "id": "845060eb",
   "metadata": {},
   "source": [
    "Exponents can also be **fractions**, which should be written using a `/` character separating the nominator and the denominator:"
   ]
  },
  {
   "cell_type": "code",
   "execution_count": 7,
   "id": "bfa20f02",
   "metadata": {},
   "outputs": [
    {
     "data": {
      "text/plain": [
       "Dimension([0.0, 1.5, 0.0, 0.0, 0.0, 0.0, 0.0, 0.0, 0.0, 0.0, 0.0, 0.0, 0.0, 0.0, 0.0, 0.0, 0.0, 0.0, 0.0])"
      ]
     },
     "execution_count": 7,
     "metadata": {},
     "output_type": "execute_result"
    }
   ],
   "source": [
    "Dimension(\"L^3/2\")"
   ]
  },
  {
   "cell_type": "markdown",
   "id": "26fc5a68",
   "metadata": {},
   "source": [
    "To **multiply** dimensions, they must be separated from each other by a `.` character.  \n",
    "For example the dimension of energy ($\\mathrm{L^2 M T^{-2}}$) can be written as (note that the primary dimensions can be entered in any arbitrary order and the result will be the same):"
   ]
  },
  {
   "cell_type": "code",
   "execution_count": 8,
   "id": "704c57e0",
   "metadata": {},
   "outputs": [
    {
     "data": {
      "text/plain": [
       "Dimension([1.0, 2.0, -2.0, 0.0, 0.0, 0.0, 0.0, 0.0, 0.0, 0.0, 0.0, 0.0, 0.0, 0.0, 0.0, 0.0, 0.0, 0.0, 0.0])"
      ]
     },
     "execution_count": 8,
     "metadata": {},
     "output_type": "execute_result"
    }
   ],
   "source": [
    "Dimension(\"L^2.M.T^-2\")"
   ]
  },
  {
   "cell_type": "markdown",
   "id": "a11dd583",
   "metadata": {},
   "source": [
    "However, since energy is already implemented by the module as a dimension (see class method `supported_input_dimensions`), we can also just use its symbol (or name):"
   ]
  },
  {
   "cell_type": "code",
   "execution_count": 9,
   "id": "04f37163",
   "metadata": {},
   "outputs": [
    {
     "data": {
      "text/plain": [
       "Dimension([0.0, 0.0, 0.0, 0.0, 0.0, 0.0, 0.0, 0.0, 0.0, 0.0, 0.0, 0.0, 0.0, 0.0, 0.0, 0.0, 0.0, 0.0, 1.0])"
      ]
     },
     "execution_count": 9,
     "metadata": {},
     "output_type": "execute_result"
    }
   ],
   "source": [
    "Dimension(\"E\")"
   ]
  },
  {
   "cell_type": "markdown",
   "id": "99577abe",
   "metadata": {},
   "source": [
    "Note that while the `repr` of the two energy dimensions is not the same, they are considered identical (see below for more details):"
   ]
  },
  {
   "cell_type": "code",
   "execution_count": 10,
   "id": "2c2f1394",
   "metadata": {},
   "outputs": [
    {
     "data": {
      "text/plain": [
       "True"
      ]
     },
     "execution_count": 10,
     "metadata": {},
     "output_type": "execute_result"
    }
   ],
   "source": [
    "Dimension(\"M.L^2.T^-2\") == Dimension(\"E\")"
   ]
  },
  {
   "cell_type": "markdown",
   "id": "443035db",
   "metadata": {},
   "source": [
    "### From an array of exponents for all available dimensions"
   ]
  },
  {
   "cell_type": "markdown",
   "id": "47aa0c18",
   "metadata": {},
   "source": [
    "The `__repr__` method shows a unique representation of the current `Dimension` object, as an array of numbers corresponding to the exponents of each of the available dimensions (see `supported_input_dimensions`) that was used to compose the current dimension. For example, in the above representation (`Dimension(\"E\")`), the last array element is 1 and the rest are zero, meaning that the dimension was created from a single \"energy\" dimension, with an exponent of 1.\n",
    "\n",
    "Indeed, the `Dimension` class can also be directly instantiated with such an array (note that the array must have a length equal to the number of known dimensions by the class, i.e. ```len(Dimension.supported_input_dimensions)```):"
   ]
  },
  {
   "cell_type": "code",
   "execution_count": 11,
   "id": "245c4f94",
   "metadata": {},
   "outputs": [
    {
     "data": {
      "text/plain": [
       "Dimension([0.0, 0.0, 0.0, 0.0, 0.0, 0.0, 0.0, 0.0, 0.0, 0.0, 0.0, 0.0, 0.0, 0.0, 0.0, 0.0, 0.0, 0.0, 1.0])"
      ]
     },
     "execution_count": 11,
     "metadata": {},
     "output_type": "execute_result"
    }
   ],
   "source": [
    "Dimension([0,0,0,0,0,0,0,0,0,0,0,0,0,0,0,0,0,0,1])"
   ]
  },
  {
   "cell_type": "markdown",
   "id": "162d1490",
   "metadata": {},
   "source": [
    "This means that the `repr` of each `Dimension` object can be used to construct that object in its current state:"
   ]
  },
  {
   "cell_type": "code",
   "execution_count": 12,
   "id": "3d3b0b94",
   "metadata": {},
   "outputs": [
    {
     "data": {
      "text/plain": [
       "True"
      ]
     },
     "execution_count": 12,
     "metadata": {},
     "output_type": "execute_result"
    }
   ],
   "source": [
    "eval(repr(Dimension(\"E\"))) == Dimension(\"E\")"
   ]
  },
  {
   "cell_type": "markdown",
   "id": "227a4ecc",
   "metadata": {},
   "source": [
    "### From an array of exponents for primary dimensions"
   ]
  },
  {
   "cell_type": "markdown",
   "id": "df60c3e3",
   "metadata": {},
   "source": [
    "Another method to instantiate a `Dimension` is by its **primary dimension decomposition**, using the alternative constructor method `from_prim_dim_decomposition`; it takes an array of 7 numbers, corresponding to the exponents of the 7 primary dimensions that compose the dimension. The order of the primary dimensions should be the same as in the output of `supported_input_dimensions`, namely the conventional order *mass, length, time, electric current, temperature, amount of substance, luminous intensity*:"
   ]
  },
  {
   "cell_type": "code",
   "execution_count": 13,
   "id": "0f4c3671",
   "metadata": {},
   "outputs": [
    {
     "data": {
      "text/plain": [
       "Dimension([1.0, 2.0, -2.0, 0.0, 0.0, 0.0, 0.0, 0.0, 0.0, 0.0, 0.0, 0.0, 0.0, 0.0, 0.0, 0.0, 0.0, 0.0, 0.0])"
      ]
     },
     "execution_count": 13,
     "metadata": {},
     "output_type": "execute_result"
    }
   ],
   "source": [
    "Dimension.from_prim_dim_decomposition([1,2,-2,0,0,0,0])"
   ]
  },
  {
   "cell_type": "markdown",
   "id": "a86a9d71",
   "metadata": {},
   "source": [
    "### From the container object `predefined`"
   ]
  },
  {
   "cell_type": "markdown",
   "id": "75c21938",
   "metadata": {},
   "source": [
    "In all of the above examples, we had to create dimensions from scratch, using a combination of the available primary and derived dimensions. However, all of these predefined dimensions are also available directly as `Dimension` objects in the container object `predefined`:"
   ]
  },
  {
   "cell_type": "code",
   "execution_count": 14,
   "id": "a5225745",
   "metadata": {},
   "outputs": [],
   "source": [
    "from mdsim.physical_quantities.dimension import predefined as dims"
   ]
  },
  {
   "cell_type": "markdown",
   "id": "eb0450fa",
   "metadata": {},
   "source": [
    "After importing the `predefined` object (here `as dims`), you can simply write `predefined.<TAB>` (where `<TAB>` means pressing the `TAB` button on your keyboard), and your IDE's code auto-completion will show you a list of all available dimensions you can simply choose from.  \n",
    "For example:"
   ]
  },
  {
   "cell_type": "code",
   "execution_count": 15,
   "id": "03c006c8",
   "metadata": {},
   "outputs": [
    {
     "data": {
      "text/plain": [
       "Dimension([0.0, 0.0, 0.0, 0.0, 0.0, 0.0, 0.0, 0.0, 0.0, 0.0, 0.0, 0.0, 0.0, 0.0, 0.0, 0.0, 0.0, 0.0, 1.0])"
      ]
     },
     "execution_count": 15,
     "metadata": {},
     "output_type": "execute_result"
    }
   ],
   "source": [
    "dims.energy"
   ]
  },
  {
   "cell_type": "markdown",
   "id": "606c4cb8",
   "metadata": {},
   "source": [
    "is the same as `Dimension(\"E\")`:"
   ]
  },
  {
   "cell_type": "code",
   "execution_count": 16,
   "id": "2737a88d",
   "metadata": {},
   "outputs": [
    {
     "data": {
      "text/plain": [
       "True"
      ]
     },
     "execution_count": 16,
     "metadata": {},
     "output_type": "execute_result"
    }
   ],
   "source": [
    "dims.energy == Dimension(\"E\")"
   ]
  },
  {
   "cell_type": "markdown",
   "id": "64d8b5dd",
   "metadata": {},
   "source": [
    "The dimensions are defined as `property` for the object, so they cannot be modified in-place. Instead, each time a dimension is called from `predefined`, it returns a new `Dimension` object for that specific dimension: "
   ]
  },
  {
   "cell_type": "code",
   "execution_count": 17,
   "id": "15091b32",
   "metadata": {},
   "outputs": [
    {
     "data": {
      "text/plain": [
       "4673049168"
      ]
     },
     "execution_count": 17,
     "metadata": {},
     "output_type": "execute_result"
    }
   ],
   "source": [
    "id(dims.energy)"
   ]
  },
  {
   "cell_type": "code",
   "execution_count": 18,
   "id": "89cb3e2e",
   "metadata": {},
   "outputs": [
    {
     "data": {
      "text/plain": [
       "4673050080"
      ]
     },
     "execution_count": 18,
     "metadata": {},
     "output_type": "execute_result"
    }
   ],
   "source": [
    "id(dims.energy)"
   ]
  },
  {
   "cell_type": "markdown",
   "id": "90c53f0a",
   "metadata": {},
   "source": [
    "## Attributes and Methods"
   ]
  },
  {
   "cell_type": "markdown",
   "id": "3eba406c",
   "metadata": {},
   "source": [
    "Each `Dimension` object has a number of attributes (or properties) and methods, which can be used to analyze that dimension."
   ]
  },
  {
   "cell_type": "markdown",
   "id": "6f41084b",
   "metadata": {},
   "source": [
    "### Name, symbol, SI unit and dimensional exponents"
   ]
  },
  {
   "cell_type": "markdown",
   "id": "f968e56a",
   "metadata": {},
   "source": [
    "Each `Dimension` object has three variants for its `name`, `symbol`, `si_unit` and `exponents` properties:\n",
    "* `as_is`: corresponds to the non-simplified dimensional composition of the `Dimension` object in its current state.\n",
    "* `shortest_composition`: corresponds to the shortest (alternative) equivalent dimensional composition of the object.\n",
    "* `primary_decomposition`: corresponds to the primary dimension decomposition of the object."
   ]
  },
  {
   "cell_type": "markdown",
   "id": "1dbaad12",
   "metadata": {},
   "source": [
    "Of course, for a single primary dimension, all three variants are identical:"
   ]
  },
  {
   "cell_type": "code",
   "execution_count": 19,
   "id": "c8241543",
   "metadata": {},
   "outputs": [],
   "source": [
    "l = dims.length"
   ]
  },
  {
   "cell_type": "code",
   "execution_count": 20,
   "id": "a53a767f",
   "metadata": {},
   "outputs": [
    {
     "data": {
      "text/plain": [
       "'length'"
      ]
     },
     "execution_count": 20,
     "metadata": {},
     "output_type": "execute_result"
    }
   ],
   "source": [
    "l.name_as_is"
   ]
  },
  {
   "cell_type": "code",
   "execution_count": 21,
   "id": "b6263c6e",
   "metadata": {},
   "outputs": [
    {
     "data": {
      "text/plain": [
       "'length'"
      ]
     },
     "execution_count": 21,
     "metadata": {},
     "output_type": "execute_result"
    }
   ],
   "source": [
    "l.name_shortest_composition"
   ]
  },
  {
   "cell_type": "code",
   "execution_count": 22,
   "id": "4a5884a5",
   "metadata": {},
   "outputs": [
    {
     "data": {
      "text/plain": [
       "'length'"
      ]
     },
     "execution_count": 22,
     "metadata": {},
     "output_type": "execute_result"
    }
   ],
   "source": [
    "l.name_primary_decomposition"
   ]
  },
  {
   "cell_type": "code",
   "execution_count": 23,
   "id": "aefc8341",
   "metadata": {},
   "outputs": [
    {
     "data": {
      "text/plain": [
       "'L'"
      ]
     },
     "execution_count": 23,
     "metadata": {},
     "output_type": "execute_result"
    }
   ],
   "source": [
    "l.symbol_as_is"
   ]
  },
  {
   "cell_type": "code",
   "execution_count": 24,
   "id": "461b5122",
   "metadata": {},
   "outputs": [
    {
     "data": {
      "text/plain": [
       "'L'"
      ]
     },
     "execution_count": 24,
     "metadata": {},
     "output_type": "execute_result"
    }
   ],
   "source": [
    "l.symbol_shortest_composition"
   ]
  },
  {
   "cell_type": "code",
   "execution_count": 25,
   "id": "86691806",
   "metadata": {},
   "outputs": [
    {
     "data": {
      "text/plain": [
       "'L'"
      ]
     },
     "execution_count": 25,
     "metadata": {},
     "output_type": "execute_result"
    }
   ],
   "source": [
    "l.symbol_primary_decomposition"
   ]
  },
  {
   "cell_type": "code",
   "execution_count": 26,
   "id": "def5edcf",
   "metadata": {},
   "outputs": [
    {
     "data": {
      "text/plain": [
       "'m'"
      ]
     },
     "execution_count": 26,
     "metadata": {},
     "output_type": "execute_result"
    }
   ],
   "source": [
    "l.si_unit_as_is"
   ]
  },
  {
   "cell_type": "code",
   "execution_count": 27,
   "id": "8bca1bb0",
   "metadata": {},
   "outputs": [
    {
     "data": {
      "text/plain": [
       "'m'"
      ]
     },
     "execution_count": 27,
     "metadata": {},
     "output_type": "execute_result"
    }
   ],
   "source": [
    "l.si_unit_shortest_composition"
   ]
  },
  {
   "cell_type": "code",
   "execution_count": 28,
   "id": "df8c335c",
   "metadata": {},
   "outputs": [
    {
     "data": {
      "text/plain": [
       "'m'"
      ]
     },
     "execution_count": 28,
     "metadata": {},
     "output_type": "execute_result"
    }
   ],
   "source": [
    "l.si_unit_primary_decomposition"
   ]
  },
  {
   "cell_type": "code",
   "execution_count": 29,
   "id": "c280fcc6",
   "metadata": {},
   "outputs": [
    {
     "data": {
      "text/plain": [
       "array([0., 1., 0., 0., 0., 0., 0., 0., 0., 0., 0., 0., 0., 0., 0., 0., 0.,\n",
       "       0., 0.])"
      ]
     },
     "execution_count": 29,
     "metadata": {},
     "output_type": "execute_result"
    }
   ],
   "source": [
    "l.exponents_as_is"
   ]
  },
  {
   "cell_type": "code",
   "execution_count": 30,
   "id": "542b453c",
   "metadata": {},
   "outputs": [
    {
     "data": {
      "text/plain": [
       "array([0., 1., 0., 0., 0., 0., 0., 0., 0., 0., 0., 0., 0., 0., 0., 0., 0.,\n",
       "       0., 0.])"
      ]
     },
     "execution_count": 30,
     "metadata": {},
     "output_type": "execute_result"
    }
   ],
   "source": [
    "l.exponents_shortest_composition"
   ]
  },
  {
   "cell_type": "code",
   "execution_count": 31,
   "id": "c02b875b",
   "metadata": {},
   "outputs": [
    {
     "data": {
      "text/plain": [
       "array([0., 1., 0., 0., 0., 0., 0.])"
      ]
     },
     "execution_count": 31,
     "metadata": {},
     "output_type": "execute_result"
    }
   ],
   "source": [
    "l.exponents_primary_decomposition"
   ]
  },
  {
   "cell_type": "markdown",
   "id": "aa8a8239",
   "metadata": {},
   "source": [
    "However, this is not true for a derived dimension. For example, let's take the dimension of the physical quantity $\\mathrm{action}$. It has the dimension of $\\mathrm{energy}*\\mathrm{time}$, which is also equivalent to $\\mathrm{momentum}*\\mathrm{length}$, both of which have the same primary decomposition, namely $\\mathrm{length}^2 * \\mathrm{mass} * \\mathrm{time}^{-1}$.  \n",
    "In this case, if a `Dimension` object for $\\mathrm{action}$ is created from the dimensions of $\\mathrm{energy}*\\mathrm{time}$, then its `as_is` variants will correspond to the dimensional composition of $\\mathrm{energy}*\\mathrm{time}$, whereas its `shortest_composition` variants will correspond to the dimensional composition of $\\mathrm{momentum}*\\mathrm{length}$, and its `primary_decomposition` variants will correspond to the dimensional composition of $\\mathrm{length}^2 * \\mathrm{mass} * \\mathrm{time}^{-1}$:"
   ]
  },
  {
   "cell_type": "code",
   "execution_count": 32,
   "id": "6fd9a7dd",
   "metadata": {},
   "outputs": [],
   "source": [
    "action = Dimension(\"E.T\")"
   ]
  },
  {
   "cell_type": "code",
   "execution_count": 33,
   "id": "8f0b44c3",
   "metadata": {},
   "outputs": [
    {
     "data": {
      "text/plain": [
       "'energy . time'"
      ]
     },
     "execution_count": 33,
     "metadata": {},
     "output_type": "execute_result"
    }
   ],
   "source": [
    "action.name_as_is"
   ]
  },
  {
   "cell_type": "code",
   "execution_count": 34,
   "id": "a8ba49f6",
   "metadata": {},
   "outputs": [
    {
     "data": {
      "text/plain": [
       "'ET'"
      ]
     },
     "execution_count": 34,
     "metadata": {},
     "output_type": "execute_result"
    }
   ],
   "source": [
    "action.symbol_as_is"
   ]
  },
  {
   "cell_type": "code",
   "execution_count": 35,
   "id": "e52d3b0a",
   "metadata": {},
   "outputs": [
    {
     "data": {
      "text/plain": [
       "'J.s'"
      ]
     },
     "execution_count": 35,
     "metadata": {},
     "output_type": "execute_result"
    }
   ],
   "source": [
    "action.si_unit_as_is"
   ]
  },
  {
   "cell_type": "code",
   "execution_count": 36,
   "id": "b8fdfa89",
   "metadata": {},
   "outputs": [
    {
     "data": {
      "text/plain": [
       "array([0., 0., 1., 0., 0., 0., 0., 0., 0., 0., 0., 0., 0., 0., 0., 0., 0.,\n",
       "       0., 1.])"
      ]
     },
     "execution_count": 36,
     "metadata": {},
     "output_type": "execute_result"
    }
   ],
   "source": [
    "action.exponents_as_is"
   ]
  },
  {
   "cell_type": "code",
   "execution_count": 37,
   "id": "39e1d9ae",
   "metadata": {},
   "outputs": [
    {
     "data": {
      "text/plain": [
       "'momentum . length'"
      ]
     },
     "execution_count": 37,
     "metadata": {},
     "output_type": "execute_result"
    }
   ],
   "source": [
    "action.name_shortest_composition"
   ]
  },
  {
   "cell_type": "code",
   "execution_count": 38,
   "id": "22beef14",
   "metadata": {},
   "outputs": [
    {
     "data": {
      "text/plain": [
       "'MomL'"
      ]
     },
     "execution_count": 38,
     "metadata": {},
     "output_type": "execute_result"
    }
   ],
   "source": [
    "action.symbol_shortest_composition"
   ]
  },
  {
   "cell_type": "code",
   "execution_count": 39,
   "id": "a5ec5164",
   "metadata": {},
   "outputs": [
    {
     "data": {
      "text/plain": [
       "'kg.m.s^-1.m'"
      ]
     },
     "execution_count": 39,
     "metadata": {},
     "output_type": "execute_result"
    }
   ],
   "source": [
    "action.si_unit_shortest_composition"
   ]
  },
  {
   "cell_type": "code",
   "execution_count": 40,
   "id": "426b34ce",
   "metadata": {},
   "outputs": [
    {
     "data": {
      "text/plain": [
       "array([0., 1., 0., 0., 0., 0., 0., 0., 0., 0., 0., 0., 0., 0., 0., 1., 0.,\n",
       "       0., 0.])"
      ]
     },
     "execution_count": 40,
     "metadata": {},
     "output_type": "execute_result"
    }
   ],
   "source": [
    "action.exponents_shortest_composition"
   ]
  },
  {
   "cell_type": "code",
   "execution_count": 41,
   "id": "1b23097f",
   "metadata": {},
   "outputs": [
    {
     "data": {
      "text/plain": [
       "'mass . length² . time⁻¹'"
      ]
     },
     "execution_count": 41,
     "metadata": {},
     "output_type": "execute_result"
    }
   ],
   "source": [
    "action.name_primary_decomposition"
   ]
  },
  {
   "cell_type": "code",
   "execution_count": 42,
   "id": "b1204b73",
   "metadata": {},
   "outputs": [
    {
     "data": {
      "text/plain": [
       "'ML²T⁻¹'"
      ]
     },
     "execution_count": 42,
     "metadata": {},
     "output_type": "execute_result"
    }
   ],
   "source": [
    "action.symbol_primary_decomposition"
   ]
  },
  {
   "cell_type": "code",
   "execution_count": 43,
   "id": "6f9d1c63",
   "metadata": {},
   "outputs": [
    {
     "data": {
      "text/plain": [
       "'kg.m².s⁻¹'"
      ]
     },
     "execution_count": 43,
     "metadata": {},
     "output_type": "execute_result"
    }
   ],
   "source": [
    "action.si_unit_primary_decomposition"
   ]
  },
  {
   "cell_type": "code",
   "execution_count": 44,
   "id": "ec8ec23d",
   "metadata": {},
   "outputs": [
    {
     "data": {
      "text/plain": [
       "array([ 1.,  2., -1.,  0.,  0.,  0.,  0.])"
      ]
     },
     "execution_count": 44,
     "metadata": {},
     "output_type": "execute_result"
    }
   ],
   "source": [
    "action.exponents_primary_decomposition"
   ]
  },
  {
   "cell_type": "markdown",
   "id": "9c2bcb0a",
   "metadata": {},
   "source": [
    "### String representation"
   ]
  },
  {
   "cell_type": "markdown",
   "id": "1d983bc5",
   "metadata": {},
   "source": [
    "The `Dimension` object's `__str__` method can be used to display an overview of the dimension's name, symbol and SI unit in all three variants discussed above: "
   ]
  },
  {
   "cell_type": "code",
   "execution_count": 45,
   "id": "623ee73e",
   "metadata": {
    "scrolled": true
   },
   "outputs": [
    {
     "name": "stdout",
     "output_type": "stream",
     "text": [
      "As is:    L = length [m]\n",
      "Shortest: L = length [m]\n",
      "Primary:  L = length [m]\n"
     ]
    }
   ],
   "source": [
    "l = Dimension(\"length\")\n",
    "print(l)"
   ]
  },
  {
   "cell_type": "code",
   "execution_count": 46,
   "id": "5e562b9d",
   "metadata": {},
   "outputs": [
    {
     "name": "stdout",
     "output_type": "stream",
     "text": [
      "As is:    ET = energy . time [J.s]\n",
      "Shortest: MomL = momentum . length [kg.m.s^-1.m]\n",
      "Primary:  ML²T⁻¹ = mass . length² . time⁻¹ [kg.m².s⁻¹]\n"
     ]
    }
   ],
   "source": [
    "action = Dimension(\"E.T\")\n",
    "print(action)"
   ]
  },
  {
   "cell_type": "code",
   "execution_count": 47,
   "id": "4e92b8ef",
   "metadata": {},
   "outputs": [
    {
     "name": "stdout",
     "output_type": "stream",
     "text": [
      "As is:    ML²T⁻²N⁻¹ = mass . length² . time⁻² . amount of substance⁻¹ [kg.m².s⁻².mol⁻¹]\n",
      "Shortest: EN⁻¹ = energy . amount of substance⁻¹ [J.mol⁻¹]\n",
      "Primary:  ML²T⁻²N⁻¹ = mass . length² . time⁻² . amount of substance⁻¹ [kg.m².s⁻².mol⁻¹]\n"
     ]
    }
   ],
   "source": [
    "molar_energy = Dimension(\"L^2.M.N^-1.T^-2\")\n",
    "print(molar_energy)"
   ]
  },
  {
   "cell_type": "markdown",
   "id": "7edea125",
   "metadata": {},
   "source": [
    "### Testing whether a dimension is primary"
   ]
  },
  {
   "cell_type": "markdown",
   "id": "67d7d67f",
   "metadata": {},
   "source": [
    "The property `is_primary_dimension` tells whether the `Dimension` object represents a primary dimension (i.e. it is composed of a single primary dimension with an exponent of 1):"
   ]
  },
  {
   "cell_type": "code",
   "execution_count": 53,
   "id": "7da2b4b5",
   "metadata": {},
   "outputs": [
    {
     "data": {
      "text/plain": [
       "True"
      ]
     },
     "execution_count": 53,
     "metadata": {},
     "output_type": "execute_result"
    }
   ],
   "source": [
    "Dimension(\"L\").is_primary_dimension"
   ]
  },
  {
   "cell_type": "code",
   "execution_count": 54,
   "id": "6e64f5c8",
   "metadata": {},
   "outputs": [
    {
     "data": {
      "text/plain": [
       "False"
      ]
     },
     "execution_count": 54,
     "metadata": {},
     "output_type": "execute_result"
    }
   ],
   "source": [
    "Dimension(\"L^2\").is_primary_dimension"
   ]
  },
  {
   "cell_type": "markdown",
   "id": "dd6397ab",
   "metadata": {},
   "source": [
    "The method always first reduces the dimension into its simplest form; for example, a dimension of *energy per force* is equal to a *length* dimension, and is thus primary:"
   ]
  },
  {
   "cell_type": "code",
   "execution_count": 55,
   "id": "261e8b19",
   "metadata": {},
   "outputs": [
    {
     "name": "stdout",
     "output_type": "stream",
     "text": [
      "As is:    EF⁻¹ = energy . force⁻¹ [J.N⁻¹]\n",
      "Shortest: L = length [m]\n",
      "Primary:  L = length [m]\n"
     ]
    }
   ],
   "source": [
    "print(Dimension(\"E.F^-1\"))"
   ]
  },
  {
   "cell_type": "code",
   "execution_count": 56,
   "id": "98583eb8",
   "metadata": {
    "scrolled": true
   },
   "outputs": [
    {
     "data": {
      "text/plain": [
       "True"
      ]
     },
     "execution_count": 56,
     "metadata": {},
     "output_type": "execute_result"
    }
   ],
   "source": [
    "Dimension(\"E.F^-1\").is_primary_dimension"
   ]
  },
  {
   "cell_type": "markdown",
   "id": "c03e9086",
   "metadata": {},
   "source": [
    "### Creating equivalent `Dimension` objects"
   ]
  },
  {
   "cell_type": "markdown",
   "id": "5d949327",
   "metadata": {},
   "source": [
    "The above equivalent dimensions, i.e. `shortest_composition` and `primary_decomposition`, can also be obtained directly as `Dimension` object, using the `equiv_dim_` properties:"
   ]
  },
  {
   "cell_type": "code",
   "execution_count": 48,
   "id": "3268ffb7",
   "metadata": {},
   "outputs": [],
   "source": [
    "action = Dimension(\"E.T\")"
   ]
  },
  {
   "cell_type": "code",
   "execution_count": 49,
   "id": "7062f522",
   "metadata": {},
   "outputs": [
    {
     "data": {
      "text/plain": [
       "Dimension([0.0, 1.0, 0.0, 0.0, 0.0, 0.0, 0.0, 0.0, 0.0, 0.0, 0.0, 0.0, 0.0, 0.0, 0.0, 1.0, 0.0, 0.0, 0.0])"
      ]
     },
     "execution_count": 49,
     "metadata": {},
     "output_type": "execute_result"
    }
   ],
   "source": [
    "action.equiv_dim_shortest_composition"
   ]
  },
  {
   "cell_type": "code",
   "execution_count": 50,
   "id": "fb23972b",
   "metadata": {},
   "outputs": [
    {
     "data": {
      "text/plain": [
       "Dimension([1.0, 2.0, -1.0, 0.0, 0.0, 0.0, 0.0, 0.0, 0.0, 0.0, 0.0, 0.0, 0.0, 0.0, 0.0, 0.0, 0.0, 0.0, 0.0])"
      ]
     },
     "execution_count": 50,
     "metadata": {},
     "output_type": "execute_result"
    }
   ],
   "source": [
    "action.equiv_dim_primary_decomposition"
   ]
  },
  {
   "cell_type": "markdown",
   "id": "d2d726e6",
   "metadata": {},
   "source": [
    "Besides, the method `equiv_dim_all` allows for calculation of all possible equivalent dimensions with integer exponents. It takes two arguments:\n",
    "* `max_num_dims`: Defines the maximum allowed number of dimensions that can compose an equivalent dimension (max. 7)\n",
    "* `max_exp`: Defines the maximum allowed absolute value of an exponent in an equivalent dimension."
   ]
  },
  {
   "cell_type": "code",
   "execution_count": 51,
   "id": "5cee51f0",
   "metadata": {},
   "outputs": [],
   "source": [
    "action_eq_dims = action.equiv_dim_all()"
   ]
  },
  {
   "cell_type": "code",
   "execution_count": 52,
   "id": "a306832e",
   "metadata": {},
   "outputs": [
    {
     "name": "stdout",
     "output_type": "stream",
     "text": [
      "As is:    MomL = momentum . length [kg.m.s^-1.m]\n",
      "Shortest: MomL = momentum . length [kg.m.s^-1.m]\n",
      "Primary:  ML²T⁻¹ = mass . length² . time⁻¹ [kg.m².s⁻¹] \n",
      "\n",
      "As is:    Eν⁻¹ = energy . frequency⁻¹ [J.Hz⁻¹]\n",
      "Shortest: MomL = momentum . length [kg.m.s^-1.m]\n",
      "Primary:  ML²T⁻¹ = mass . length² . time⁻¹ [kg.m².s⁻¹] \n",
      "\n",
      "As is:    MomVν⁻¹ = momentum . velocity . frequency⁻¹ [kg.m.s^-1.m.s^-1.Hz⁻¹]\n",
      "Shortest: MomL = momentum . length [kg.m.s^-1.m]\n",
      "Primary:  ML²T⁻¹ = mass . length² . time⁻¹ [kg.m².s⁻¹] \n",
      "\n",
      "As is:    FV⁻¹Ar = force . velocity⁻¹ . area [N.m.s^-1⁻¹.m^2]\n",
      "Shortest: MomL = momentum . length [kg.m.s^-1.m]\n",
      "Primary:  ML²T⁻¹ = mass . length² . time⁻¹ [kg.m².s⁻¹] \n",
      "\n",
      "As is:    Pν⁻¹Vol = pressure . frequency⁻¹ . volume [Pa.Hz⁻¹.m^3]\n",
      "Shortest: MomL = momentum . length [kg.m.s^-1.m]\n",
      "Primary:  ML²T⁻¹ = mass . length² . time⁻¹ [kg.m².s⁻¹] \n",
      "\n",
      "As is:    νArM = frequency . area . mass [Hz.m^2.kg]\n",
      "Shortest: MomL = momentum . length [kg.m.s^-1.m]\n",
      "Primary:  ML²T⁻¹ = mass . length² . time⁻¹ [kg.m².s⁻¹] \n",
      "\n",
      "As is:    EA⁻¹V = energy . acceleration⁻¹ . velocity [J.m.s^-2⁻¹.m.s^-1]\n",
      "Shortest: MomL = momentum . length [kg.m.s^-1.m]\n",
      "Primary:  ML²T⁻¹ = mass . length² . time⁻¹ [kg.m².s⁻¹] \n",
      "\n",
      "As is:    EF⁻¹Mom = energy . force⁻¹ . momentum [J.N⁻¹.kg.m.s^-1]\n",
      "Shortest: MomL = momentum . length [kg.m.s^-1.m]\n",
      "Primary:  ML²T⁻¹ = mass . length² . time⁻¹ [kg.m².s⁻¹] \n",
      "\n",
      "As is:    Fν⁻¹L = force . frequency⁻¹ . length [N.Hz⁻¹.m]\n",
      "Shortest: MomL = momentum . length [kg.m.s^-1.m]\n",
      "Primary:  ML²T⁻¹ = mass . length² . time⁻¹ [kg.m².s⁻¹] \n",
      "\n",
      "As is:    PVolT = pressure . volume . time [Pa.m^3.s]\n",
      "Shortest: MomL = momentum . length [kg.m.s^-1.m]\n",
      "Primary:  ML²T⁻¹ = mass . length² . time⁻¹ [kg.m².s⁻¹] \n",
      "\n",
      "As is:    MomVT = momentum . velocity . time [kg.m.s^-1.m.s^-1.s]\n",
      "Shortest: MomL = momentum . length [kg.m.s^-1.m]\n",
      "Primary:  ML²T⁻¹ = mass . length² . time⁻¹ [kg.m².s⁻¹] \n",
      "\n",
      "As is:    FLT = force . length . time [N.m.s]\n",
      "Shortest: MomL = momentum . length [kg.m.s^-1.m]\n",
      "Primary:  ML²T⁻¹ = mass . length² . time⁻¹ [kg.m².s⁻¹] \n",
      "\n",
      "As is:    EQI⁻¹ = energy . electric charge . electric current⁻¹ [J.C.A⁻¹]\n",
      "Shortest: MomL = momentum . length [kg.m.s^-1.m]\n",
      "Primary:  ML²T⁻¹ = mass . length² . time⁻¹ [kg.m².s⁻¹] \n",
      "\n",
      "As is:    VML = velocity . mass . length [m.s^-1.kg.m]\n",
      "Shortest: MomL = momentum . length [kg.m.s^-1.m]\n",
      "Primary:  ML²T⁻¹ = mass . length² . time⁻¹ [kg.m².s⁻¹] \n",
      "\n",
      "As is:    ArMT⁻¹ = area . mass . time⁻¹ [m^2.kg.s⁻¹]\n",
      "Shortest: MomL = momentum . length [kg.m.s^-1.m]\n",
      "Primary:  ML²T⁻¹ = mass . length² . time⁻¹ [kg.m².s⁻¹] \n",
      "\n",
      "As is:    EV⁻¹L = energy . velocity⁻¹ . length [J.m.s^-1⁻¹.m]\n",
      "Shortest: MomL = momentum . length [kg.m.s^-1.m]\n",
      "Primary:  ML²T⁻¹ = mass . length² . time⁻¹ [kg.m².s⁻¹] \n",
      "\n",
      "As is:    FV⁻¹L² = force . velocity⁻¹ . length² [N.m.s^-1⁻¹.m²]\n",
      "Shortest: MomL = momentum . length [kg.m.s^-1.m]\n",
      "Primary:  ML²T⁻¹ = mass . length² . time⁻¹ [kg.m².s⁻¹] \n",
      "\n",
      "As is:    FQLI⁻¹ = force . electric charge . length . electric current⁻¹ [N.C.m.A⁻¹]\n",
      "Shortest: MomL = momentum . length [kg.m.s^-1.m]\n",
      "Primary:  ML²T⁻¹ = mass . length² . time⁻¹ [kg.m².s⁻¹] \n",
      "\n",
      "As is:    FVT² = force . velocity . time² [N.m.s^-1.s²]\n",
      "Shortest: MomL = momentum . length [kg.m.s^-1.m]\n",
      "Primary:  ML²T⁻¹ = mass . length² . time⁻¹ [kg.m².s⁻¹] \n",
      "\n",
      "As is:    AMomT² = acceleration . momentum . time² [m.s^-2.kg.m.s^-1.s²]\n",
      "Shortest: MomL = momentum . length [kg.m.s^-1.m]\n",
      "Primary:  ML²T⁻¹ = mass . length² . time⁻¹ [kg.m².s⁻¹] \n",
      "\n",
      "As is:    V²MT = velocity² . mass . time [m.s^-1².kg.s]\n",
      "Shortest: MomL = momentum . length [kg.m.s^-1.m]\n",
      "Primary:  ML²T⁻¹ = mass . length² . time⁻¹ [kg.m².s⁻¹] \n",
      "\n",
      "As is:    V²ν⁻¹M = velocity² . frequency⁻¹ . mass [m.s^-1².Hz⁻¹.kg]\n",
      "Shortest: MomL = momentum . length [kg.m.s^-1.m]\n",
      "Primary:  ML²T⁻¹ = mass . length² . time⁻¹ [kg.m².s⁻¹] \n",
      "\n",
      "As is:    V⁻¹PAr² = velocity⁻¹ . pressure . area² [m.s^-1⁻¹.Pa.m^2²]\n",
      "Shortest: MomL = momentum . length [kg.m.s^-1.m]\n",
      "Primary:  ML²T⁻¹ = mass . length² . time⁻¹ [kg.m².s⁻¹] \n",
      "\n",
      "As is:    A⁻¹MomV² = acceleration⁻¹ . momentum . velocity² [m.s^-2⁻¹.kg.m.s^-1.m.s^-1²]\n",
      "Shortest: MomL = momentum . length [kg.m.s^-1.m]\n",
      "Primary:  ML²T⁻¹ = mass . length² . time⁻¹ [kg.m².s⁻¹] \n",
      "\n",
      "As is:    νML² = frequency . mass . length² [Hz.kg.m²]\n",
      "Shortest: MomL = momentum . length [kg.m.s^-1.m]\n",
      "Primary:  ML²T⁻¹ = mass . length² . time⁻¹ [kg.m².s⁻¹] \n",
      "\n",
      "As is:    F⁻¹Mom²V = force⁻¹ . momentum² . velocity [N⁻¹.kg.m.s^-1².m.s^-1]\n",
      "Shortest: MomL = momentum . length [kg.m.s^-1.m]\n",
      "Primary:  ML²T⁻¹ = mass . length² . time⁻¹ [kg.m².s⁻¹] \n",
      "\n",
      "As is:    E²A⁻¹Mom⁻¹ = energy² . acceleration⁻¹ . momentum⁻¹ [J².m.s^-2⁻¹.kg.m.s^-1⁻¹]\n",
      "Shortest: MomL = momentum . length [kg.m.s^-1.m]\n",
      "Primary:  ML²T⁻¹ = mass . length² . time⁻¹ [kg.m².s⁻¹] \n",
      "\n",
      "As is:    E²F⁻¹V⁻¹ = energy² . force⁻¹ . velocity⁻¹ [J².N⁻¹.m.s^-1⁻¹]\n",
      "Shortest: MomL = momentum . length [kg.m.s^-1.m]\n",
      "Primary:  ML²T⁻¹ = mass . length² . time⁻¹ [kg.m².s⁻¹] \n",
      "\n",
      "As is:    F²V⁻¹P⁻¹ = force² . velocity⁻¹ . pressure⁻¹ [N².m.s^-1⁻¹.Pa⁻¹]\n",
      "Shortest: MomL = momentum . length [kg.m.s^-1.m]\n",
      "Primary:  ML²T⁻¹ = mass . length² . time⁻¹ [kg.m².s⁻¹] \n",
      "\n",
      "As is:    FVν⁻² = force . velocity . frequency⁻² [N.m.s^-1.Hz⁻²]\n",
      "Shortest: MomL = momentum . length [kg.m.s^-1.m]\n",
      "Primary:  ML²T⁻¹ = mass . length² . time⁻¹ [kg.m².s⁻¹] \n",
      "\n",
      "As is:    AMomν⁻² = acceleration . momentum . frequency⁻² [m.s^-2.kg.m.s^-1.Hz⁻²]\n",
      "Shortest: MomL = momentum . length [kg.m.s^-1.m]\n",
      "Primary:  ML²T⁻¹ = mass . length² . time⁻¹ [kg.m².s⁻¹] \n",
      "\n",
      "As is:    QPVolI⁻¹ = electric charge . pressure . volume . electric current⁻¹ [C.Pa.m^3.A⁻¹]\n",
      "Shortest: MomL = momentum . length [kg.m.s^-1.m]\n",
      "Primary:  ML²T⁻¹ = mass . length² . time⁻¹ [kg.m².s⁻¹] \n",
      "\n",
      "As is:    MomVQI⁻¹ = momentum . velocity . electric charge . electric current⁻¹ [kg.m.s^-1.m.s^-1.C.A⁻¹]\n",
      "Shortest: MomL = momentum . length [kg.m.s^-1.m]\n",
      "Primary:  ML²T⁻¹ = mass . length² . time⁻¹ [kg.m².s⁻¹] \n",
      "\n",
      "As is:    ML²T⁻¹ = mass . length² . time⁻¹ [kg.m².s⁻¹]\n",
      "Shortest: MomL = momentum . length [kg.m.s^-1.m]\n",
      "Primary:  ML²T⁻¹ = mass . length² . time⁻¹ [kg.m².s⁻¹] \n",
      "\n",
      "As is:    Mom²M⁻¹T = momentum² . mass⁻¹ . time [kg.m.s^-1².kg⁻¹.s]\n",
      "Shortest: MomL = momentum . length [kg.m.s^-1.m]\n",
      "Primary:  ML²T⁻¹ = mass . length² . time⁻¹ [kg.m².s⁻¹] \n",
      "\n",
      "As is:    Mom²ν⁻¹M⁻¹ = momentum² . frequency⁻¹ . mass⁻¹ [kg.m.s^-1².Hz⁻¹.kg⁻¹]\n",
      "Shortest: MomL = momentum . length [kg.m.s^-1.m]\n",
      "Primary:  ML²T⁻¹ = mass . length² . time⁻¹ [kg.m².s⁻¹] \n",
      "\n",
      "As is:    VρAr² = velocity . density . area² [m.s^-1.kg.m^-3.m^2²]\n",
      "Shortest: MomL = momentum . length [kg.m.s^-1.m]\n",
      "Primary:  ML²T⁻¹ = mass . length² . time⁻¹ [kg.m².s⁻¹] \n",
      "\n",
      "As is:    Q⁻¹ArMI = electric charge⁻¹ . area . mass . electric current [C⁻¹.m^2.kg.A]\n",
      "Shortest: MomL = momentum . length [kg.m.s^-1.m]\n",
      "Primary:  ML²T⁻¹ = mass . length² . time⁻¹ [kg.m².s⁻¹] \n",
      "\n",
      "As is:    Mom²QM⁻¹I⁻¹ = momentum² . electric charge . mass⁻¹ . electric current⁻¹ [kg.m.s^-1².C.kg⁻¹.A⁻¹]\n",
      "Shortest: MomL = momentum . length [kg.m.s^-1.m]\n",
      "Primary:  ML²T⁻¹ = mass . length² . time⁻¹ [kg.m².s⁻¹] \n",
      "\n",
      "As is:    V²QMI⁻¹ = velocity² . electric charge . mass . electric current⁻¹ [m.s^-1².C.kg.A⁻¹]\n",
      "Shortest: MomL = momentum . length [kg.m.s^-1.m]\n",
      "Primary:  ML²T⁻¹ = mass . length² . time⁻¹ [kg.m².s⁻¹] \n",
      "\n",
      "As is:    Q⁻¹ML²I = electric charge⁻¹ . mass . length² . electric current [C⁻¹.kg.m².A]\n",
      "Shortest: MomL = momentum . length [kg.m.s^-1.m]\n",
      "Primary:  ML²T⁻¹ = mass . length² . time⁻¹ [kg.m².s⁻¹] \n",
      "\n",
      "As is:    FVQ²I⁻² = force . velocity . electric charge² . electric current⁻² [N.m.s^-1.C².A⁻²]\n",
      "Shortest: MomL = momentum . length [kg.m.s^-1.m]\n",
      "Primary:  ML²T⁻¹ = mass . length² . time⁻¹ [kg.m².s⁻¹] \n",
      "\n",
      "As is:    AMomQ²I⁻² = acceleration . momentum . electric charge² . electric current⁻² [m.s^-2.kg.m.s^-1.C².A⁻²]\n",
      "Shortest: MomL = momentum . length [kg.m.s^-1.m]\n",
      "Primary:  ML²T⁻¹ = mass . length² . time⁻¹ [kg.m².s⁻¹] \n",
      "\n"
     ]
    }
   ],
   "source": [
    "for action_eq_dim in action_eq_dims:\n",
    "    print(action_eq_dim, \"\\n\")"
   ]
  },
  {
   "cell_type": "markdown",
   "id": "3f39a4ce",
   "metadata": {},
   "source": [
    "## Mathematical Operations"
   ]
  },
  {
   "cell_type": "markdown",
   "id": "15c00aa9",
   "metadata": {},
   "source": [
    "### Equality"
   ]
  },
  {
   "cell_type": "markdown",
   "id": "a1b79efb",
   "metadata": {},
   "source": [
    "Two dimensions are equal when their primary-dimension decomposition is identical:"
   ]
  },
  {
   "cell_type": "code",
   "execution_count": 57,
   "id": "8b971a5e",
   "metadata": {},
   "outputs": [
    {
     "data": {
      "text/plain": [
       "True"
      ]
     },
     "execution_count": 57,
     "metadata": {},
     "output_type": "execute_result"
    }
   ],
   "source": [
    "Dimension(\"E\") == Dimension(\"M.L^2.T^-2\")"
   ]
  },
  {
   "cell_type": "code",
   "execution_count": 58,
   "id": "e4be4ace",
   "metadata": {},
   "outputs": [
    {
     "data": {
      "text/plain": [
       "True"
      ]
     },
     "execution_count": 58,
     "metadata": {},
     "output_type": "execute_result"
    }
   ],
   "source": [
    "Dimension(\"T^-1\") == Dimension(\"frequency\")"
   ]
  },
  {
   "cell_type": "markdown",
   "id": "9b9e89e9",
   "metadata": {},
   "source": [
    "### Multiplication, division, and exponentiation"
   ]
  },
  {
   "cell_type": "markdown",
   "id": "2d987fb9",
   "metadata": {},
   "source": [
    "Any dimension can be multiplied with, or divided by another dimension to create a new dimension. Dimensions can also be exponentiated by a number:"
   ]
  },
  {
   "cell_type": "code",
   "execution_count": 59,
   "id": "4d696286",
   "metadata": {},
   "outputs": [
    {
     "data": {
      "text/plain": [
       "Dimension([0.0, 2.0, 0.0, 0.0, 0.0, 0.0, 0.0, 0.0, 0.0, 0.0, 0.0, 0.0, 0.0, 0.0, 0.0, 0.0, 0.0, 0.0, 0.0])"
      ]
     },
     "execution_count": 59,
     "metadata": {},
     "output_type": "execute_result"
    }
   ],
   "source": [
    "a = Dimension(\"L\")**2\n",
    "a"
   ]
  },
  {
   "cell_type": "code",
   "execution_count": 60,
   "id": "ad953d1a",
   "metadata": {},
   "outputs": [
    {
     "name": "stdout",
     "output_type": "stream",
     "text": [
      "As is:    L² = length² [m²]\n",
      "Shortest: Ar = area [m^2]\n",
      "Primary:  L² = length² [m²]\n"
     ]
    }
   ],
   "source": [
    "print(a)"
   ]
  },
  {
   "cell_type": "code",
   "execution_count": 61,
   "id": "48eab037",
   "metadata": {},
   "outputs": [
    {
     "data": {
      "text/plain": [
       "Dimension([1.0, 2.0, -2.0, 0.0, 0.0, 0.0, 0.0, 0.0, 0.0, 0.0, 0.0, 0.0, 0.0, 0.0, 0.0, 0.0, 0.0, 0.0, 0.0])"
      ]
     },
     "execution_count": 61,
     "metadata": {},
     "output_type": "execute_result"
    }
   ],
   "source": [
    "e = Dimension(\"L\") ** 2 * Dimension(\"M\") * Dimension(\"T\") ** -2\n",
    "e"
   ]
  },
  {
   "cell_type": "code",
   "execution_count": 62,
   "id": "58e48984",
   "metadata": {},
   "outputs": [
    {
     "name": "stdout",
     "output_type": "stream",
     "text": [
      "As is:    ML²T⁻² = mass . length² . time⁻² [kg.m².s⁻²]\n",
      "Shortest: E = energy [J]\n",
      "Primary:  ML²T⁻² = mass . length² . time⁻² [kg.m².s⁻²]\n"
     ]
    }
   ],
   "source": [
    "print(e)"
   ]
  },
  {
   "cell_type": "code",
   "execution_count": 63,
   "id": "f1f21ecd",
   "metadata": {},
   "outputs": [
    {
     "name": "stdout",
     "output_type": "stream",
     "text": [
      "As is:    EF⁻¹ = energy . force⁻¹ [J.N⁻¹]\n",
      "Shortest: L = length [m]\n",
      "Primary:  L = length [m]\n"
     ]
    }
   ],
   "source": [
    "print(Dimension(\"E\") / Dimension(\"F\"))"
   ]
  },
  {
   "cell_type": "markdown",
   "id": "136b56ae",
   "metadata": {},
   "source": [
    "All this operations can also be performed in-place:"
   ]
  },
  {
   "cell_type": "code",
   "execution_count": 64,
   "id": "5568d166",
   "metadata": {},
   "outputs": [
    {
     "name": "stdout",
     "output_type": "stream",
     "text": [
      "As is:    L = length [m]\n",
      "Shortest: L = length [m]\n",
      "Primary:  L = length [m]\n"
     ]
    }
   ],
   "source": [
    "dim = Dimension(\"L\")\n",
    "print(dim)"
   ]
  },
  {
   "cell_type": "code",
   "execution_count": 65,
   "id": "92ffd0fe",
   "metadata": {},
   "outputs": [
    {
     "name": "stdout",
     "output_type": "stream",
     "text": [
      "As is:    L² = length² [m²]\n",
      "Shortest: Ar = area [m^2]\n",
      "Primary:  L² = length² [m²]\n"
     ]
    }
   ],
   "source": [
    "dim **= 2\n",
    "print(dim)"
   ]
  },
  {
   "cell_type": "code",
   "execution_count": 66,
   "id": "243358fe",
   "metadata": {},
   "outputs": [
    {
     "name": "stdout",
     "output_type": "stream",
     "text": [
      "As is:    ML² = mass . length² [kg.m²]\n",
      "Shortest: ArM = area . mass [m^2.kg]\n",
      "Primary:  ML² = mass . length² [kg.m²]\n"
     ]
    }
   ],
   "source": [
    "dim *= Dimension(\"M\")\n",
    "print(dim)"
   ]
  },
  {
   "cell_type": "code",
   "execution_count": 67,
   "id": "a713a319",
   "metadata": {},
   "outputs": [
    {
     "name": "stdout",
     "output_type": "stream",
     "text": [
      "As is:    ML²T⁻² = mass . length² . time⁻² [kg.m².s⁻²]\n",
      "Shortest: E = energy [J]\n",
      "Primary:  ML²T⁻² = mass . length² . time⁻² [kg.m².s⁻²]\n"
     ]
    }
   ],
   "source": [
    "dim /= Dimension(\"T\") ** 2\n",
    "print(dim)"
   ]
  },
  {
   "cell_type": "code",
   "execution_count": 68,
   "id": "46714cc4",
   "metadata": {},
   "outputs": [
    {
     "name": "stdout",
     "output_type": "stream",
     "text": [
      "As is:    F⁻¹ML²T⁻² = force⁻¹ . mass . length² . time⁻² [N⁻¹.kg.m².s⁻²]\n",
      "Shortest: L = length [m]\n",
      "Primary:  L = length [m]\n"
     ]
    }
   ],
   "source": [
    "dim /= Dimension(\"F\")\n",
    "print(dim)"
   ]
  }
 ],
 "metadata": {
  "kernelspec": {
   "display_name": "Python 3 (ipykernel)",
   "language": "python",
   "name": "python3"
  },
  "language_info": {
   "codemirror_mode": {
    "name": "ipython",
    "version": 3
   },
   "file_extension": ".py",
   "mimetype": "text/x-python",
   "name": "python",
   "nbconvert_exporter": "python",
   "pygments_lexer": "ipython3",
   "version": "3.9.7"
  }
 },
 "nbformat": 4,
 "nbformat_minor": 5
}
