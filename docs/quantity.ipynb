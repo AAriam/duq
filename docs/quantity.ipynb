{
 "cells": [
  {
   "cell_type": "markdown",
   "id": "eef7d077",
   "metadata": {},
   "source": [
    "# The `quantity` Module"
   ]
  },
  {
   "cell_type": "markdown",
   "id": "58a5a8c7",
   "metadata": {},
   "source": [
    "## Introduction"
   ]
  },
  {
   "cell_type": "markdown",
   "id": "342c4a21",
   "metadata": {},
   "source": [
    "The module `quantity` offers tools for working with physical quantities, which have a numerical value, a corresponding unit and consequently, a dimension. It contains a class `Quantity` allowing for creating objects that represent a physical quantity:"
   ]
  },
  {
   "cell_type": "code",
   "execution_count": 1,
   "id": "ecb238bd",
   "metadata": {},
   "outputs": [],
   "source": [
    "from duq.quantity import Quantity"
   ]
  },
  {
   "cell_type": "markdown",
   "id": "a8f31791",
   "metadata": {},
   "source": [
    "A list of already available units can be viewed using the class method `supported_input_units`:"
   ]
  },
  {
   "cell_type": "code",
   "execution_count": 2,
   "id": "4d09febf",
   "metadata": {},
   "outputs": [
    {
     "data": {
      "text/plain": [
       "(('kilogram', 'kg'),\n",
       " ('gram', 'g'),\n",
       " ('dalton', 'Da'),\n",
       " ('atomic unit of mass (a.u.)', 'm_e'),\n",
       " ('metre', 'm'),\n",
       " ('angstrom', 'Å'),\n",
       " ('bohr radius (a.u.)', 'a0'),\n",
       " ('centimetre', 'cm'),\n",
       " ('millimetre', 'mm'),\n",
       " ('micrometre', 'μm'),\n",
       " ('nanometre', 'nm'),\n",
       " ('picometre', 'pm'),\n",
       " ('femtometre', 'fm'),\n",
       " ('attometre', 'am'),\n",
       " ('second', 's'),\n",
       " ('centisecond', 'cs'),\n",
       " ('millisecond', 'ms'),\n",
       " ('microsecond', 'μs'),\n",
       " ('nanosecond', 'ns'),\n",
       " ('picosecond', 'ps'),\n",
       " ('femtosecond', 'fs'),\n",
       " ('attosecond', 'as'),\n",
       " ('ampere', 'A'),\n",
       " ('kelvin', 'K'),\n",
       " ('degree Celsius', '°C'),\n",
       " ('mole', 'mol'),\n",
       " ('candela', 'cd'),\n",
       " ('radian', 'rad'),\n",
       " ('degree', 'deg'),\n",
       " ('square metre', 'm^2'),\n",
       " ('cubic metre', 'm^3'),\n",
       " ('hertz', 'Hz'),\n",
       " ('kilogram per cubic metre', 'kg.m^-3'),\n",
       " ('pascal', 'Pa'),\n",
       " ('Coulomb', 'C'),\n",
       " ('atomic unit of charge (a.u.)', 'e'),\n",
       " ('metre per second', 'm.s^-1'),\n",
       " ('kilogram metre per second', 'kg.m.s^-1'),\n",
       " ('metre per second squared', 'm.s^-2'),\n",
       " ('newton', 'N'),\n",
       " ('joule', 'J'),\n",
       " ('kilocalorie', 'kcal'),\n",
       " ('electronvolt', 'eV'),\n",
       " ('hartree (a.u.)', 'E_h'))"
      ]
     },
     "execution_count": 2,
     "metadata": {},
     "output_type": "execute_result"
    }
   ],
   "source": [
    "Quantity.supported_input_units()"
   ]
  },
  {
   "cell_type": "markdown",
   "id": "11b6b632",
   "metadata": {},
   "source": [
    "## Instantiation"
   ]
  },
  {
   "cell_type": "markdown",
   "id": "344875d1",
   "metadata": {},
   "source": [
    "Each `Quantity` object needs a `value`, which is the numerical value of the quantity, and should be inputted as a number. For inputting the corresponding unit of the quantity, there are two options:"
   ]
  },
  {
   "cell_type": "markdown",
   "id": "675d9150",
   "metadata": {},
   "source": [
    "### Inputting the unit as a string"
   ]
  },
  {
   "cell_type": "markdown",
   "id": "5d436789",
   "metadata": {},
   "source": [
    "A `Quantity` can simply be created by using the names or symbols of any of the supported units listed above. For example: "
   ]
  },
  {
   "cell_type": "code",
   "execution_count": 3,
   "id": "8caeeac5",
   "metadata": {},
   "outputs": [
    {
     "data": {
      "text/plain": [
       "Quantity(value=1, unit=Unit([0.0, 0.0, 0.0, 0.0, 1.0, 0.0, 0.0, 0.0, 0.0, 0.0, 0.0, 0.0, 0.0, 0.0, 0.0, 0.0, 0.0, 0.0, 0.0, 0.0, 0.0, 0.0, 0.0, 0.0, 0.0, 0.0, 0.0, 0.0, 0.0, 0.0, 0.0, 0.0, 0.0, 0.0, 0.0, 0.0, 0.0, 0.0, 0.0, 0.0, 0.0, 0.0, 0.0, 0.0]), normalization=False)"
      ]
     },
     "execution_count": 3,
     "metadata": {},
     "output_type": "execute_result"
    }
   ],
   "source": [
    "Quantity(1, \"m\")"
   ]
  },
  {
   "cell_type": "markdown",
   "id": "bb00a025",
   "metadata": {},
   "source": [
    "is the same as:"
   ]
  },
  {
   "cell_type": "code",
   "execution_count": 4,
   "id": "996aa67f",
   "metadata": {},
   "outputs": [
    {
     "data": {
      "text/plain": [
       "Quantity(value=1, unit=Unit([0.0, 0.0, 0.0, 0.0, 1.0, 0.0, 0.0, 0.0, 0.0, 0.0, 0.0, 0.0, 0.0, 0.0, 0.0, 0.0, 0.0, 0.0, 0.0, 0.0, 0.0, 0.0, 0.0, 0.0, 0.0, 0.0, 0.0, 0.0, 0.0, 0.0, 0.0, 0.0, 0.0, 0.0, 0.0, 0.0, 0.0, 0.0, 0.0, 0.0, 0.0, 0.0, 0.0, 0.0]), normalization=False)"
      ]
     },
     "execution_count": 4,
     "metadata": {},
     "output_type": "execute_result"
    }
   ],
   "source": [
    "Quantity(1, \"metre\")"
   ]
  },
  {
   "cell_type": "markdown",
   "id": "100f921b",
   "metadata": {},
   "source": [
    "Of course, all available units can also be exponentiated and combined to create any other unit."
   ]
  },
  {
   "cell_type": "markdown",
   "id": "94241a0f",
   "metadata": {},
   "source": [
    "For exponentiation, a unit's name or symbol must be followed by a `^` and then its exponent. For example:"
   ]
  },
  {
   "cell_type": "code",
   "execution_count": 5,
   "id": "1caccaf1",
   "metadata": {},
   "outputs": [
    {
     "data": {
      "text/plain": [
       "Quantity(value=1, unit=Unit([0.0, 0.0, 0.0, 0.0, 2.0, 0.0, 0.0, 0.0, 0.0, 0.0, 0.0, 0.0, 0.0, 0.0, 0.0, 0.0, 0.0, 0.0, 0.0, 0.0, 0.0, 0.0, 0.0, 0.0, 0.0, 0.0, 0.0, 0.0, 0.0, 0.0, 0.0, 0.0, 0.0, 0.0, 0.0, 0.0, 0.0, 0.0, 0.0, 0.0, 0.0, 0.0, 0.0, 0.0]), normalization=False)"
      ]
     },
     "execution_count": 5,
     "metadata": {},
     "output_type": "execute_result"
    }
   ],
   "source": [
    "Quantity(1, \"m^2\")"
   ]
  },
  {
   "cell_type": "markdown",
   "id": "dba363bb",
   "metadata": {},
   "source": [
    "is the same as:"
   ]
  },
  {
   "cell_type": "code",
   "execution_count": 6,
   "id": "85716016",
   "metadata": {},
   "outputs": [
    {
     "data": {
      "text/plain": [
       "Quantity(value=1, unit=Unit([0.0, 0.0, 0.0, 0.0, 2.0, 0.0, 0.0, 0.0, 0.0, 0.0, 0.0, 0.0, 0.0, 0.0, 0.0, 0.0, 0.0, 0.0, 0.0, 0.0, 0.0, 0.0, 0.0, 0.0, 0.0, 0.0, 0.0, 0.0, 0.0, 0.0, 0.0, 0.0, 0.0, 0.0, 0.0, 0.0, 0.0, 0.0, 0.0, 0.0, 0.0, 0.0, 0.0, 0.0]), normalization=False)"
      ]
     },
     "execution_count": 6,
     "metadata": {},
     "output_type": "execute_result"
    }
   ],
   "source": [
    "Quantity(1, \"metre^2\")"
   ]
  },
  {
   "cell_type": "markdown",
   "id": "0f00d1c1",
   "metadata": {},
   "source": [
    "Exponents can also be rational numbers written as a fraction:"
   ]
  },
  {
   "cell_type": "code",
   "execution_count": 7,
   "id": "c9befd04",
   "metadata": {},
   "outputs": [
    {
     "data": {
      "text/plain": [
       "Quantity(value=1, unit=Unit([0.0, 0.0, 0.0, 0.0, 1.5, 0.0, 0.0, 0.0, 0.0, 0.0, 0.0, 0.0, 0.0, 0.0, 0.0, 0.0, 0.0, 0.0, 0.0, 0.0, 0.0, 0.0, 0.0, 0.0, 0.0, 0.0, 0.0, 0.0, 0.0, 0.0, 0.0, 0.0, 0.0, 0.0, 0.0, 0.0, 0.0, 0.0, 0.0, 0.0, 0.0, 0.0, 0.0, 0.0]), normalization=False)"
      ]
     },
     "execution_count": 7,
     "metadata": {},
     "output_type": "execute_result"
    }
   ],
   "source": [
    "Quantity(1, \"m^3/2\")"
   ]
  },
  {
   "cell_type": "markdown",
   "id": "25bf70d4",
   "metadata": {},
   "source": [
    "To combine units, they must be separated from each other by a `.`. For example the SI unit of energy ($\\mathrm{kg.m^2.s^{-2}}$) can be written as:"
   ]
  },
  {
   "cell_type": "code",
   "execution_count": 8,
   "id": "72c8a733",
   "metadata": {},
   "outputs": [
    {
     "data": {
      "text/plain": [
       "Quantity(value=1, unit=Unit([1.0, 0.0, 0.0, 0.0, 2.0, 0.0, 0.0, 0.0, 0.0, 0.0, 0.0, 0.0, 0.0, 0.0, -2.0, 0.0, 0.0, 0.0, 0.0, 0.0, 0.0, 0.0, 0.0, 0.0, 0.0, 0.0, 0.0, 0.0, 0.0, 0.0, 0.0, 0.0, 0.0, 0.0, 0.0, 0.0, 0.0, 0.0, 0.0, 0.0, 0.0, 0.0, 0.0, 0.0]), normalization=False)"
      ]
     },
     "execution_count": 8,
     "metadata": {},
     "output_type": "execute_result"
    }
   ],
   "source": [
    "Quantity(1, \"kg.m^2.s^-2\")"
   ]
  },
  {
   "cell_type": "markdown",
   "id": "00159f70",
   "metadata": {},
   "source": [
    "Although since the SI unit of energy (joule) is already available, we can also just use its symbol (or name):"
   ]
  },
  {
   "cell_type": "code",
   "execution_count": 9,
   "id": "dfcb9d9f",
   "metadata": {},
   "outputs": [
    {
     "data": {
      "text/plain": [
       "Quantity(value=1, unit=Unit([0.0, 0.0, 0.0, 0.0, 0.0, 0.0, 0.0, 0.0, 0.0, 0.0, 0.0, 0.0, 0.0, 0.0, 0.0, 0.0, 0.0, 0.0, 0.0, 0.0, 0.0, 0.0, 0.0, 0.0, 0.0, 0.0, 0.0, 0.0, 0.0, 0.0, 0.0, 0.0, 0.0, 0.0, 0.0, 0.0, 0.0, 0.0, 0.0, 0.0, 1.0, 0.0, 0.0, 0.0]), normalization=False)"
      ]
     },
     "execution_count": 9,
     "metadata": {},
     "output_type": "execute_result"
    }
   ],
   "source": [
    "Quantity(1, \"J\")"
   ]
  },
  {
   "cell_type": "markdown",
   "id": "3e677759",
   "metadata": {},
   "source": [
    "Note that while the `repr` of the two energy units is not the same, they are identical in all other ways (since $\\mathrm{J = kg.m^2.s^{-2}}$):"
   ]
  },
  {
   "cell_type": "code",
   "execution_count": 10,
   "id": "6bf406e5",
   "metadata": {},
   "outputs": [
    {
     "data": {
      "text/plain": [
       "True"
      ]
     },
     "execution_count": 10,
     "metadata": {},
     "output_type": "execute_result"
    }
   ],
   "source": [
    "Quantity(1, \"kg.m^2.s^-2\") == Quantity(1, \"J\")"
   ]
  },
  {
   "cell_type": "markdown",
   "id": "11185823",
   "metadata": {},
   "source": [
    "### Inputting the unit as a `Unit` object"
   ]
  },
  {
   "cell_type": "markdown",
   "id": "62bbffe1",
   "metadata": {},
   "source": [
    "Another possibility is to create a `Quantity` object from a corresponding `Unit` object. The `Unit` object may of course be created from any of the factory methods available to it (see documentation of `unit` module for more details):"
   ]
  },
  {
   "cell_type": "code",
   "execution_count": 11,
   "id": "3a566ff9",
   "metadata": {},
   "outputs": [
    {
     "data": {
      "text/plain": [
       "Quantity(value=1, unit=Unit([0.0, 0.0, 0.0, 0.0, 0.0, 0.0, 0.0, 0.0, 0.0, 0.0, 0.0, 0.0, 0.0, 0.0, 0.0, 0.0, 0.0, 0.0, 0.0, 0.0, 0.0, 0.0, 0.0, 0.0, 0.0, 0.0, 0.0, 0.0, 0.0, 0.0, 0.0, 0.0, 0.0, 0.0, 0.0, 0.0, 0.0, 0.0, 0.0, 0.0, 1.0, 0.0, 0.0, 0.0]), normalization=False)"
      ]
     },
     "execution_count": 11,
     "metadata": {},
     "output_type": "execute_result"
    }
   ],
   "source": [
    "from duq.unit import Unit\n",
    "Quantity(1, Unit(\"J\"))"
   ]
  },
  {
   "cell_type": "markdown",
   "id": "2134a3b8",
   "metadata": {},
   "source": [
    "The `__repr__` method shows a unique representation of the current `Quantity` object. This means that the `repr` of each `Quantity` object can be used to construct that object:"
   ]
  },
  {
   "cell_type": "code",
   "execution_count": 12,
   "id": "32b2cde0",
   "metadata": {},
   "outputs": [
    {
     "data": {
      "text/plain": [
       "True"
      ]
     },
     "execution_count": 12,
     "metadata": {},
     "output_type": "execute_result"
    }
   ],
   "source": [
    "eval(repr(Quantity(1, \"J\"))) == Quantity(1, \"J\")"
   ]
  },
  {
   "cell_type": "markdown",
   "id": "90cf64ae",
   "metadata": {},
   "source": [
    "### Instantiating a physical constant using the container object `constants`"
   ]
  },
  {
   "cell_type": "markdown",
   "id": "b442c04e",
   "metadata": {},
   "source": [
    "A number of physical constants in their corresponding SI units are already implemented as `Quantity` objects and are available to use:"
   ]
  },
  {
   "cell_type": "code",
   "execution_count": 13,
   "id": "1de9f9e0",
   "metadata": {},
   "outputs": [],
   "source": [
    "from duq.quantity import predefined as consts"
   ]
  },
  {
   "cell_type": "markdown",
   "id": "dff42e3f",
   "metadata": {},
   "source": [
    "After importing the `constants` object (here `as consts`), you can simply write `constants.<TAB>` (where `<TAB>` means pressing the `TAB` button on your keyboard), and your IDE's code auto-completion will show you a list of all available physical constants you can simply choose from.  \n",
    "For example:"
   ]
  },
  {
   "cell_type": "code",
   "execution_count": 14,
   "id": "561d7164",
   "metadata": {},
   "outputs": [
    {
     "data": {
      "text/plain": [
       "Quantity(value=6.02214076e+23, unit=Unit([0.0, 0.0, 0.0, 0.0, 0.0, 0.0, 0.0, 0.0, 0.0, 0.0, 0.0, 0.0, 0.0, 0.0, 0.0, 0.0, 0.0, 0.0, 0.0, 0.0, 0.0, 0.0, 0.0, 0.0, 0.0, -1.0, 0.0, 0.0, 0.0, 0.0, 0.0, 0.0, 0.0, 0.0, 0.0, 0.0, 0.0, 0.0, 0.0, 0.0, 0.0, 0.0, 0.0, 0.0]), normalization=False)"
      ]
     },
     "execution_count": 14,
     "metadata": {},
     "output_type": "execute_result"
    }
   ],
   "source": [
    "consts.avogadro"
   ]
  },
  {
   "cell_type": "markdown",
   "id": "73f0a26f",
   "metadata": {},
   "source": [
    "is the same as:"
   ]
  },
  {
   "cell_type": "code",
   "execution_count": 15,
   "id": "1a231d5b",
   "metadata": {},
   "outputs": [
    {
     "data": {
      "text/plain": [
       "True"
      ]
     },
     "execution_count": 15,
     "metadata": {},
     "output_type": "execute_result"
    }
   ],
   "source": [
    "avogadro = Quantity(6.02214076e+23, \"mol^-1\")\n",
    "avogadro == consts.avogadro"
   ]
  },
  {
   "cell_type": "markdown",
   "id": "a9c633d8",
   "metadata": {},
   "source": [
    "The constants are defined as `property` for the object, so they cannot be modified in-place. Instead, each time a constant is called from `constants`, it returns a new `Quantity` object for that specific constant: "
   ]
  },
  {
   "cell_type": "code",
   "execution_count": 16,
   "id": "bdc041ff",
   "metadata": {},
   "outputs": [
    {
     "data": {
      "text/plain": [
       "4603171072"
      ]
     },
     "execution_count": 16,
     "metadata": {},
     "output_type": "execute_result"
    }
   ],
   "source": [
    "id(consts.avogadro)"
   ]
  },
  {
   "cell_type": "code",
   "execution_count": 17,
   "id": "52e635f9",
   "metadata": {},
   "outputs": [
    {
     "data": {
      "text/plain": [
       "4603171600"
      ]
     },
     "execution_count": 17,
     "metadata": {},
     "output_type": "execute_result"
    }
   ],
   "source": [
    "id(consts.avogadro)"
   ]
  },
  {
   "cell_type": "markdown",
   "id": "b783b28a",
   "metadata": {},
   "source": [
    "## Attributes and Methods"
   ]
  },
  {
   "cell_type": "markdown",
   "id": "15cca5a1",
   "metadata": {},
   "source": [
    "Each `Quantity` object has a number of attributes (or properties) and methods, which can be used to analyze that quantity."
   ]
  },
  {
   "cell_type": "markdown",
   "id": "7fdec101",
   "metadata": {},
   "source": [
    "### Value, unit and dimension"
   ]
  },
  {
   "cell_type": "markdown",
   "id": "723cb9dc",
   "metadata": {},
   "source": [
    "The property `value` returns the numerical value of the quantity:"
   ]
  },
  {
   "cell_type": "code",
   "execution_count": 18,
   "id": "38a41d81",
   "metadata": {},
   "outputs": [],
   "source": [
    "j1 = Quantity(1,\"J\")"
   ]
  },
  {
   "cell_type": "code",
   "execution_count": 19,
   "id": "eb2499a8",
   "metadata": {},
   "outputs": [
    {
     "data": {
      "text/plain": [
       "1"
      ]
     },
     "execution_count": 19,
     "metadata": {},
     "output_type": "execute_result"
    }
   ],
   "source": [
    "j1.value"
   ]
  },
  {
   "cell_type": "markdown",
   "id": "968588bc",
   "metadata": {},
   "source": [
    "The property `unit` returns the corresponding `Unit` object of the quantity:"
   ]
  },
  {
   "cell_type": "code",
   "execution_count": 20,
   "id": "aa6f2285",
   "metadata": {},
   "outputs": [
    {
     "data": {
      "text/plain": [
       "Unit([0.0, 0.0, 0.0, 0.0, 0.0, 0.0, 0.0, 0.0, 0.0, 0.0, 0.0, 0.0, 0.0, 0.0, 0.0, 0.0, 0.0, 0.0, 0.0, 0.0, 0.0, 0.0, 0.0, 0.0, 0.0, 0.0, 0.0, 0.0, 0.0, 0.0, 0.0, 0.0, 0.0, 0.0, 0.0, 0.0, 0.0, 0.0, 0.0, 0.0, 1.0, 0.0, 0.0, 0.0])"
      ]
     },
     "execution_count": 20,
     "metadata": {},
     "output_type": "execute_result"
    }
   ],
   "source": [
    "j1.unit"
   ]
  },
  {
   "cell_type": "markdown",
   "id": "a6b4aef6",
   "metadata": {},
   "source": [
    "It thus has all the methods and attributes available to a `Unit` object; for example:"
   ]
  },
  {
   "cell_type": "code",
   "execution_count": 21,
   "id": "d168df02",
   "metadata": {},
   "outputs": [
    {
     "data": {
      "text/plain": [
       "'joule'"
      ]
     },
     "execution_count": 21,
     "metadata": {},
     "output_type": "execute_result"
    }
   ],
   "source": [
    "j1.unit.name_as_is"
   ]
  },
  {
   "cell_type": "markdown",
   "id": "78de8566",
   "metadata": {},
   "source": [
    "Similarly, the property `dimension` returns the `Dimension` object corresponding to the `Unit` object of the quantity:"
   ]
  },
  {
   "cell_type": "code",
   "execution_count": 22,
   "id": "4da1d5a6",
   "metadata": {},
   "outputs": [
    {
     "data": {
      "text/plain": [
       "Dimension([0.0, 0.0, 0.0, 0.0, 0.0, 0.0, 0.0, 0.0, 0.0, 0.0, 0.0, 0.0, 0.0, 0.0, 0.0, 0.0, 0.0, 0.0, 1.0])"
      ]
     },
     "execution_count": 22,
     "metadata": {},
     "output_type": "execute_result"
    }
   ],
   "source": [
    "j1.dimension"
   ]
  },
  {
   "cell_type": "markdown",
   "id": "48de3793",
   "metadata": {},
   "source": [
    "*Note*: This is a convenience property identical to calling the `dimension` property of the `Unit` object of the quantity:"
   ]
  },
  {
   "cell_type": "code",
   "execution_count": 23,
   "id": "7523eeb4",
   "metadata": {},
   "outputs": [
    {
     "data": {
      "text/plain": [
       "Dimension([0.0, 0.0, 0.0, 0.0, 0.0, 0.0, 0.0, 0.0, 0.0, 0.0, 0.0, 0.0, 0.0, 0.0, 0.0, 0.0, 0.0, 0.0, 1.0])"
      ]
     },
     "execution_count": 23,
     "metadata": {},
     "output_type": "execute_result"
    }
   ],
   "source": [
    "j1.unit.dimension"
   ]
  },
  {
   "cell_type": "markdown",
   "id": "476f007e",
   "metadata": {},
   "source": [
    "Again, it has all the methods and attributes available to a `Dimension` object; for example:"
   ]
  },
  {
   "cell_type": "code",
   "execution_count": 24,
   "id": "a0afd20a",
   "metadata": {},
   "outputs": [
    {
     "name": "stdout",
     "output_type": "stream",
     "text": [
      "As is:    E = energy [J]\n",
      "Shortest: E = energy [J]\n",
      "Primary:  ML²T⁻² = mass . length² . time⁻² [kg.m².s⁻²]\n"
     ]
    }
   ],
   "source": [
    "print(j1.dimension)"
   ]
  },
  {
   "cell_type": "markdown",
   "id": "be0fb137",
   "metadata": {},
   "source": [
    "### String representation"
   ]
  },
  {
   "cell_type": "markdown",
   "id": "77046a33",
   "metadata": {},
   "source": [
    "The `Quantity` object's `__str__` method can be used to display an overview of the quantity. The first line is the numerical value and unit's symbol of the quantity, which is then followed by the `__str__` method of the `Unit` object, providing a more in-depth overlook into the quantity's unit and dimension:"
   ]
  },
  {
   "cell_type": "code",
   "execution_count": 25,
   "id": "4f0b07aa",
   "metadata": {},
   "outputs": [
    {
     "name": "stdout",
     "output_type": "stream",
     "text": [
      "4.5E+02 kcal.mol⁻¹\n",
      "\n",
      "Unit:\n",
      "-----\n",
      "As is:      kcal.mol⁻¹ = kilocalorie . mole⁻¹\n",
      "SI:         J.mol⁻¹ = joule . mole⁻¹\n",
      "SI primary: kg.m².s⁻².mol⁻¹ = kilogram . metre² . second⁻² . mole⁻¹\n",
      "\n",
      "Dimension:\n",
      "----------\n",
      "As is:    EN⁻¹ = energy . amount of substance⁻¹ [J.mol⁻¹]\n",
      "Shortest: EN⁻¹ = energy . amount of substance⁻¹ [J.mol⁻¹]\n",
      "Primary:  ML²T⁻²N⁻¹ = mass . length² . time⁻² . amount of substance⁻¹ [kg.m².s⁻².mol⁻¹]\n"
     ]
    }
   ],
   "source": [
    "print(Quantity(450, \"kcal.mol^-1\"))"
   ]
  },
  {
   "cell_type": "markdown",
   "id": "236ffe9b",
   "metadata": {},
   "source": [
    "### Testing whether a quantity is in SI unit"
   ]
  },
  {
   "cell_type": "markdown",
   "id": "42dfdfb9",
   "metadata": {},
   "source": [
    "The property `is_in_si_unit` tells whether the `Unit` object of the quantity represents an SI unit (i.e. it is exclusively composed of SI units):"
   ]
  },
  {
   "cell_type": "code",
   "execution_count": 26,
   "id": "9fceec2e",
   "metadata": {},
   "outputs": [
    {
     "data": {
      "text/plain": [
       "True"
      ]
     },
     "execution_count": 26,
     "metadata": {},
     "output_type": "execute_result"
    }
   ],
   "source": [
    "Quantity(1, \"J\").is_in_si_unit"
   ]
  },
  {
   "cell_type": "code",
   "execution_count": 27,
   "id": "25ef320b",
   "metadata": {},
   "outputs": [
    {
     "data": {
      "text/plain": [
       "False"
      ]
     },
     "execution_count": 27,
     "metadata": {},
     "output_type": "execute_result"
    }
   ],
   "source": [
    "Quantity(1, \"J.ns\").is_in_si_unit"
   ]
  },
  {
   "cell_type": "code",
   "execution_count": 28,
   "id": "1bc2c5c6",
   "metadata": {},
   "outputs": [
    {
     "data": {
      "text/plain": [
       "True"
      ]
     },
     "execution_count": 28,
     "metadata": {},
     "output_type": "execute_result"
    }
   ],
   "source": [
    "Quantity(1, \"J.s\").is_in_si_unit"
   ]
  },
  {
   "cell_type": "markdown",
   "id": "c47542a0",
   "metadata": {},
   "source": [
    "### Converting units"
   ]
  },
  {
   "cell_type": "markdown",
   "id": "2075bc0b",
   "metadata": {},
   "source": [
    "A quantity can be converted from one unit into another. There are two methods available for this, where each method has an optional `inplace` parameter, which when set to `True` converts quantity in-place; otherwise, a new `Quantity` object is returned by default."
   ]
  },
  {
   "cell_type": "markdown",
   "id": "a7108e73",
   "metadata": {},
   "source": [
    "The method `convert_unit_to_si` provides a shortcut if the target unit is the corresponding SI unit:"
   ]
  },
  {
   "cell_type": "code",
   "execution_count": 29,
   "id": "dce17a5b",
   "metadata": {},
   "outputs": [
    {
     "data": {
      "text/plain": [
       "Quantity(value=4184.0, unit=Unit([0.0, 0.0, 0.0, 0.0, 0.0, 0.0, 0.0, 0.0, 0.0, 0.0, 0.0, 0.0, 0.0, 0.0, 0.0, 0.0, 0.0, 0.0, 0.0, 0.0, 0.0, 0.0, 0.0, 0.0, 0.0, 0.0, 0.0, 0.0, 0.0, 0.0, 0.0, 0.0, 0.0, 0.0, 0.0, 0.0, 0.0, 0.0, 0.0, 0.0, 1.0, 0.0, 0.0, 0.0]), normalization=False)"
      ]
     },
     "execution_count": 29,
     "metadata": {},
     "output_type": "execute_result"
    }
   ],
   "source": [
    "kcal1 = Quantity(1, \"kcal\")\n",
    "kcal1.convert_unit_to_si()"
   ]
  },
  {
   "cell_type": "code",
   "execution_count": 30,
   "id": "e5d77368",
   "metadata": {},
   "outputs": [
    {
     "name": "stdout",
     "output_type": "stream",
     "text": [
      "1E+00 kcal\n",
      "\n",
      "Unit:\n",
      "-----\n",
      "As is:      kcal = kilocalorie\n",
      "SI:         J = joule\n",
      "SI primary: kg.m².s⁻² = kilogram . metre² . second⁻²\n",
      "\n",
      "Dimension:\n",
      "----------\n",
      "As is:    E = energy [J]\n",
      "Shortest: E = energy [J]\n",
      "Primary:  ML²T⁻² = mass . length² . time⁻² [kg.m².s⁻²]\n"
     ]
    }
   ],
   "source": [
    "print(kcal1)"
   ]
  },
  {
   "cell_type": "code",
   "execution_count": 31,
   "id": "1f806d30",
   "metadata": {},
   "outputs": [
    {
     "name": "stdout",
     "output_type": "stream",
     "text": [
      "4.184E+03 J\n",
      "\n",
      "Unit:\n",
      "-----\n",
      "As is:      J = joule\n",
      "SI:         J = joule\n",
      "SI primary: kg.m².s⁻² = kilogram . metre² . second⁻²\n",
      "\n",
      "Dimension:\n",
      "----------\n",
      "As is:    E = energy [J]\n",
      "Shortest: E = energy [J]\n",
      "Primary:  ML²T⁻² = mass . length² . time⁻² [kg.m².s⁻²]\n"
     ]
    }
   ],
   "source": [
    "kcal1.convert_unit_to_si(inplace=True)\n",
    "print(kcal1)"
   ]
  },
  {
   "cell_type": "markdown",
   "id": "0e3830a1",
   "metadata": {},
   "source": [
    "For conversion to any other unit, the method `convert_unit` can be used:"
   ]
  },
  {
   "cell_type": "code",
   "execution_count": 32,
   "id": "30f317b6",
   "metadata": {},
   "outputs": [
    {
     "data": {
      "text/plain": [
       "Quantity(value=1.5726503810590463e+46, unit=Unit([0.0, 0.0, 0.0, 0.0, 0.0, 0.0, 0.0, 0.0, 0.0, 0.0, 0.0, 0.0, 0.0, 0.0, 0.0, 0.0, 0.0, 0.0, 0.0, 0.0, 0.0, 0.0, 0.0, 0.0, 0.0, -1.0, 0.0, 0.0, 0.0, 0.0, 0.0, 0.0, 0.0, 0.0, 0.0, 0.0, 0.0, 0.0, 0.0, 0.0, 0.0, 0.0, 1.0, 0.0]), normalization=False)"
      ]
     },
     "execution_count": 32,
     "metadata": {},
     "output_type": "execute_result"
    }
   ],
   "source": [
    "kcal1.convert_unit(\"eV.mol^-1\")"
   ]
  },
  {
   "cell_type": "markdown",
   "id": "09c0626d",
   "metadata": {},
   "source": [
    "Of course, the method first checks whether the two units are convertible at all, and throws an error if that's not the case:"
   ]
  },
  {
   "cell_type": "code",
   "execution_count": 33,
   "id": "0b5a70b6",
   "metadata": {},
   "outputs": [
    {
     "name": "stdout",
     "output_type": "stream",
     "text": [
      "The current unit's dimension does not match with the target unit.\n"
     ]
    }
   ],
   "source": [
    "try:\n",
    "    kcal1.convert_unit(\"kg.m.s^-2\")\n",
    "except ValueError as e:\n",
    "    print(e)"
   ]
  },
  {
   "cell_type": "markdown",
   "id": "e6b6bf1f",
   "metadata": {},
   "source": [
    "## Mathematical Operations"
   ]
  },
  {
   "cell_type": "markdown",
   "id": "0278487c",
   "metadata": {},
   "source": [
    "### Equality"
   ]
  },
  {
   "cell_type": "markdown",
   "id": "f819a6bf",
   "metadata": {},
   "source": [
    "Two quantities are equal when their units interconvertible and the value of one quantity is equal to the value of the other quantity when their units are converted to a common unit:"
   ]
  },
  {
   "cell_type": "code",
   "execution_count": 34,
   "id": "26638f74",
   "metadata": {},
   "outputs": [
    {
     "data": {
      "text/plain": [
       "True"
      ]
     },
     "execution_count": 34,
     "metadata": {},
     "output_type": "execute_result"
    }
   ],
   "source": [
    "Quantity(1, \"J\") == Quantity(1, \"kg.m^2.s^-2\")"
   ]
  },
  {
   "cell_type": "code",
   "execution_count": 35,
   "id": "b28899e7",
   "metadata": {},
   "outputs": [
    {
     "data": {
      "text/plain": [
       "True"
      ]
     },
     "execution_count": 35,
     "metadata": {},
     "output_type": "execute_result"
    }
   ],
   "source": [
    "Quantity(1, \"J\") == Quantity(1/4184, \"kcal\")"
   ]
  },
  {
   "cell_type": "code",
   "execution_count": 36,
   "id": "b2934305",
   "metadata": {},
   "outputs": [
    {
     "data": {
      "text/plain": [
       "True"
      ]
     },
     "execution_count": 36,
     "metadata": {},
     "output_type": "execute_result"
    }
   ],
   "source": [
    "Quantity(1, \"J.mol^-1\") == Quantity(consts.avogadro.value**-1, \"J\")"
   ]
  },
  {
   "cell_type": "markdown",
   "id": "d2896748",
   "metadata": {},
   "source": [
    "### Addition"
   ]
  },
  {
   "cell_type": "markdown",
   "id": "cf474b28",
   "metadata": {},
   "source": [
    "Addition can only be performed on two `Quantity` objects, which have interconvertible units. In this case, the second quantity is first converted into the unit of the first quantity, and the resulting value is added to the value of the first quantity. Thus, the returned `Quantity` object will always have the unit of the first (i.e. left) object"
   ]
  },
  {
   "cell_type": "code",
   "execution_count": 37,
   "id": "5dbf4149",
   "metadata": {},
   "outputs": [
    {
     "name": "stdout",
     "output_type": "stream",
     "text": [
      "4.185E+03 J\n",
      "\n",
      "Unit:\n",
      "-----\n",
      "As is:      J = joule\n",
      "SI:         J = joule\n",
      "SI primary: kg.m².s⁻² = kilogram . metre² . second⁻²\n",
      "\n",
      "Dimension:\n",
      "----------\n",
      "As is:    E = energy [J]\n",
      "Shortest: E = energy [J]\n",
      "Primary:  ML²T⁻² = mass . length² . time⁻² [kg.m².s⁻²]\n"
     ]
    }
   ],
   "source": [
    "print(Quantity(1, \"J\") + Quantity(1, \"kcal\"))"
   ]
  },
  {
   "cell_type": "code",
   "execution_count": 38,
   "id": "6dee3f6c",
   "metadata": {},
   "outputs": [
    {
     "name": "stdout",
     "output_type": "stream",
     "text": [
      "1.0002390057E+00 kcal\n",
      "\n",
      "Unit:\n",
      "-----\n",
      "As is:      kcal = kilocalorie\n",
      "SI:         J = joule\n",
      "SI primary: kg.m².s⁻² = kilogram . metre² . second⁻²\n",
      "\n",
      "Dimension:\n",
      "----------\n",
      "As is:    E = energy [J]\n",
      "Shortest: E = energy [J]\n",
      "Primary:  ML²T⁻² = mass . length² . time⁻² [kg.m².s⁻²]\n"
     ]
    }
   ],
   "source": [
    "print(Quantity(1, \"kcal\") + Quantity(1, \"J\"))"
   ]
  },
  {
   "cell_type": "markdown",
   "id": "b285b20c",
   "metadata": {},
   "source": [
    "### Multiplication, division, and exponentiation"
   ]
  },
  {
   "cell_type": "markdown",
   "id": "f4df966c",
   "metadata": {},
   "source": [
    "A `Quantity` object can be multiplied with, or divided by a number or another `Quantity` object, or exponentiated with a number:"
   ]
  },
  {
   "cell_type": "code",
   "execution_count": 39,
   "id": "f9af6dcc",
   "metadata": {},
   "outputs": [
    {
     "name": "stdout",
     "output_type": "stream",
     "text": [
      "2E+00 J\n",
      "\n",
      "Unit:\n",
      "-----\n",
      "As is:      J = joule\n",
      "SI:         J = joule\n",
      "SI primary: kg.m².s⁻² = kilogram . metre² . second⁻²\n",
      "\n",
      "Dimension:\n",
      "----------\n",
      "As is:    E = energy [J]\n",
      "Shortest: E = energy [J]\n",
      "Primary:  ML²T⁻² = mass . length² . time⁻² [kg.m².s⁻²]\n"
     ]
    }
   ],
   "source": [
    "print(\n",
    "    Quantity(1, \"J\") * 2\n",
    ")"
   ]
  },
  {
   "cell_type": "code",
   "execution_count": 40,
   "id": "fb94fcbc",
   "metadata": {},
   "outputs": [
    {
     "name": "stdout",
     "output_type": "stream",
     "text": [
      "5E-01 J\n",
      "\n",
      "Unit:\n",
      "-----\n",
      "As is:      J = joule\n",
      "SI:         J = joule\n",
      "SI primary: kg.m².s⁻² = kilogram . metre² . second⁻²\n",
      "\n",
      "Dimension:\n",
      "----------\n",
      "As is:    E = energy [J]\n",
      "Shortest: E = energy [J]\n",
      "Primary:  ML²T⁻² = mass . length² . time⁻² [kg.m².s⁻²]\n"
     ]
    }
   ],
   "source": [
    "print(\n",
    "    Quantity(1, \"J\") / 2\n",
    ")"
   ]
  },
  {
   "cell_type": "code",
   "execution_count": 41,
   "id": "55b5e269",
   "metadata": {},
   "outputs": [
    {
     "name": "stdout",
     "output_type": "stream",
     "text": [
      "1E+00 m²\n",
      "\n",
      "Unit:\n",
      "-----\n",
      "As is:      m² = metre²\n",
      "SI:         m² = metre²\n",
      "SI primary: m² = metre²\n",
      "\n",
      "Dimension:\n",
      "----------\n",
      "As is:    L² = length² [m²]\n",
      "Shortest: Ar = area [(m²)]\n",
      "Primary:  L² = length² [m²]\n"
     ]
    }
   ],
   "source": [
    "print(\n",
    "    Quantity(1, \"m\") ** 2\n",
    ")"
   ]
  },
  {
   "cell_type": "code",
   "execution_count": 42,
   "id": "c379fa3b",
   "metadata": {},
   "outputs": [
    {
     "name": "stdout",
     "output_type": "stream",
     "text": [
      "2E+00 m.cm\n",
      "\n",
      "Unit:\n",
      "-----\n",
      "As is:      m.cm = metre . centimetre\n",
      "SI:         m² = metre²\n",
      "SI primary: m² = metre²\n",
      "\n",
      "Dimension:\n",
      "----------\n",
      "As is:    L² = length² [m²]\n",
      "Shortest: Ar = area [(m²)]\n",
      "Primary:  L² = length² [m²]\n"
     ]
    }
   ],
   "source": [
    "print(\n",
    "    Quantity(1, \"m\") * Quantity(2, \"cm\")\n",
    ")"
   ]
  },
  {
   "cell_type": "code",
   "execution_count": 43,
   "id": "033e5ca7",
   "metadata": {},
   "outputs": [
    {
     "name": "stdout",
     "output_type": "stream",
     "text": [
      "1E+00 J.N⁻¹\n",
      "\n",
      "Unit:\n",
      "-----\n",
      "As is:      J.N⁻¹ = joule . newton⁻¹\n",
      "SI:         J.N⁻¹ = joule . newton⁻¹\n",
      "SI primary: m = metre\n",
      "\n",
      "Dimension:\n",
      "----------\n",
      "As is:    EF⁻¹ = energy . force⁻¹ [J.N⁻¹]\n",
      "Shortest: L = length [m]\n",
      "Primary:  L = length [m]\n"
     ]
    }
   ],
   "source": [
    "print(\n",
    "    Quantity(1, \"J\") / Quantity(1, \"N\")\n",
    ")"
   ]
  }
 ],
 "metadata": {
  "kernelspec": {
   "display_name": "Python 3 (ipykernel)",
   "language": "python",
   "name": "python3"
  },
  "language_info": {
   "codemirror_mode": {
    "name": "ipython",
    "version": 3
   },
   "file_extension": ".py",
   "mimetype": "text/x-python",
   "name": "python",
   "nbconvert_exporter": "python",
   "pygments_lexer": "ipython3",
   "version": "3.9.5"
  }
 },
 "nbformat": 4,
 "nbformat_minor": 5
}